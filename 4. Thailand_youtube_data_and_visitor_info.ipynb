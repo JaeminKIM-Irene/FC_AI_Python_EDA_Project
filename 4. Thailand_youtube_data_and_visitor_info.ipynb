{
 "cells": [
  {
   "cell_type": "code",
   "execution_count": 4,
   "metadata": {},
   "outputs": [
    {
     "name": "stdout",
     "output_type": "stream",
     "text": [
      "The autoreload extension is already loaded. To reload it, use:\n",
      "  %reload_ext autoreload\n"
     ]
    }
   ],
   "source": [
    "%load_ext autoreload\n",
    "%autoreload 2"
   ]
  },
  {
   "cell_type": "code",
   "execution_count": 1,
   "metadata": {
    "scrolled": false
   },
   "outputs": [],
   "source": [
    "import json\n",
    "import pandas as pd\n",
    "import numpy as np\n",
    "from urllib import parse\n",
    "import requests\n",
    "from youtubeApi import YoutubeApi\n",
    "from utils import Utils\n",
    "\n",
    "email = 'kjmkjk097@gmail.com'\n",
    "yt = YoutubeApi()\n",
    "ut = Utils()"
   ]
  },
  {
   "cell_type": "code",
   "execution_count": 2,
   "metadata": {},
   "outputs": [
    {
     "data": {
      "text/plain": [
       "{'kind': 'youtube#searchListResponse',\n",
       " 'etag': '1JCCnM-p16g2M2ojsFFZKtzXBpo',\n",
       " 'nextPageToken': 'CAEQAA',\n",
       " 'regionCode': 'KR',\n",
       " 'pageInfo': {'totalResults': 54974, 'resultsPerPage': 1},\n",
       " 'items': [{'kind': 'youtube#searchResult',\n",
       "   'etag': 'ifQJBcFqsUJlUemjEPX-Kph2PL8',\n",
       "   'id': {'kind': 'youtube#video', 'videoId': 'F2utz6L76D0'},\n",
       "   'snippet': {'publishedAt': '2022-10-11T03:00:08Z',\n",
       "    'channelId': 'UCNhofiqfw5nl-NeDJkXtPvw',\n",
       "    'title': '방콕 풀코스, 동남아 안 가본 곽튜브와 함께 【쇼트트립】',\n",
       "    'description': '2박~ 3일! 15:30 좁밥트립 시작 -------------------------------------- 카메라 Gopro10 Galaxy S21 -------------------------------------- 배경음악 ...',\n",
       "    'thumbnails': {'default': {'url': 'https://i.ytimg.com/vi/F2utz6L76D0/default.jpg',\n",
       "      'width': 120,\n",
       "      'height': 90},\n",
       "     'medium': {'url': 'https://i.ytimg.com/vi/F2utz6L76D0/mqdefault.jpg',\n",
       "      'width': 320,\n",
       "      'height': 180},\n",
       "     'high': {'url': 'https://i.ytimg.com/vi/F2utz6L76D0/hqdefault.jpg',\n",
       "      'width': 480,\n",
       "      'height': 360}},\n",
       "    'channelTitle': '빠니보틀 Pani Bottle',\n",
       "    'liveBroadcastContent': 'none',\n",
       "    'publishTime': '2022-10-11T03:00:08Z'}}]}"
      ]
     },
     "execution_count": 2,
     "metadata": {},
     "output_type": "execute_result"
    }
   ],
   "source": [
    "# search query\n",
    "searchQuery = '빠니보틀 태국'\n",
    "data = yt.getDictBySearchQuery(searchQuery, 1)\n",
    "data"
   ]
  },
  {
   "cell_type": "code",
   "execution_count": 28,
   "metadata": {},
   "outputs": [
    {
     "data": {
      "text/plain": [
       "{'viewCount': '4282043',\n",
       " 'likeCount': '46869',\n",
       " 'favoriteCount': '0',\n",
       " 'commentCount': '3483'}"
      ]
     },
     "execution_count": 28,
     "metadata": {},
     "output_type": "execute_result"
    }
   ],
   "source": [
    "# 채널의 대만 영상 정보 가져오기\n",
    "channelId = data['items'][0]['snippet']['channelId']\n",
    "videoId = data['items'][0]['id']['videoId']\n",
    "\n",
    "data2 = yt.getDictByVideoId(videoId)\n",
    "data2"
   ]
  },
  {
   "cell_type": "code",
   "execution_count": 29,
   "metadata": {},
   "outputs": [],
   "source": [
    "df = ut.make_df(data)\n",
    "df2 = ut.makeDataFromStatistics(data2)"
   ]
  },
  {
   "cell_type": "code",
   "execution_count": 30,
   "metadata": {},
   "outputs": [
    {
     "data": {
      "text/html": [
       "<div>\n",
       "<style scoped>\n",
       "    .dataframe tbody tr th:only-of-type {\n",
       "        vertical-align: middle;\n",
       "    }\n",
       "\n",
       "    .dataframe tbody tr th {\n",
       "        vertical-align: top;\n",
       "    }\n",
       "\n",
       "    .dataframe thead th {\n",
       "        text-align: right;\n",
       "    }\n",
       "</style>\n",
       "<table border=\"1\" class=\"dataframe\">\n",
       "  <thead>\n",
       "    <tr style=\"text-align: right;\">\n",
       "      <th></th>\n",
       "      <th>publishedAt</th>\n",
       "      <th>channelId</th>\n",
       "      <th>title</th>\n",
       "      <th>description</th>\n",
       "      <th>thumbnails</th>\n",
       "      <th>channelTitle</th>\n",
       "      <th>liveBroadcastContent</th>\n",
       "      <th>publishTime</th>\n",
       "      <th>videoId</th>\n",
       "    </tr>\n",
       "  </thead>\n",
       "  <tbody>\n",
       "    <tr>\n",
       "      <th>0</th>\n",
       "      <td>2022-10-11T03:00:08Z</td>\n",
       "      <td>UCNhofiqfw5nl-NeDJkXtPvw</td>\n",
       "      <td>방콕 풀코스, 동남아 안 가본 곽튜브와 함께 【쇼트트립】</td>\n",
       "      <td>2박~ 3일! 15:30 좁밥트립 시작 ------------------------...</td>\n",
       "      <td>{'default': {'url': 'https://i.ytimg.com/vi/F2...</td>\n",
       "      <td>빠니보틀 Pani Bottle</td>\n",
       "      <td>none</td>\n",
       "      <td>2022-10-11T03:00:08Z</td>\n",
       "      <td>F2utz6L76D0</td>\n",
       "    </tr>\n",
       "  </tbody>\n",
       "</table>\n",
       "</div>"
      ],
      "text/plain": [
       "            publishedAt                 channelId  \\\n",
       "0  2022-10-11T03:00:08Z  UCNhofiqfw5nl-NeDJkXtPvw   \n",
       "\n",
       "                             title  \\\n",
       "0  방콕 풀코스, 동남아 안 가본 곽튜브와 함께 【쇼트트립】   \n",
       "\n",
       "                                         description  \\\n",
       "0  2박~ 3일! 15:30 좁밥트립 시작 ------------------------...   \n",
       "\n",
       "                                          thumbnails      channelTitle  \\\n",
       "0  {'default': {'url': 'https://i.ytimg.com/vi/F2...  빠니보틀 Pani Bottle   \n",
       "\n",
       "  liveBroadcastContent           publishTime      videoId  \n",
       "0                 none  2022-10-11T03:00:08Z  F2utz6L76D0  "
      ]
     },
     "execution_count": 30,
     "metadata": {},
     "output_type": "execute_result"
    }
   ],
   "source": [
    "df"
   ]
  },
  {
   "cell_type": "code",
   "execution_count": 31,
   "metadata": {},
   "outputs": [
    {
     "data": {
      "text/html": [
       "<div>\n",
       "<style scoped>\n",
       "    .dataframe tbody tr th:only-of-type {\n",
       "        vertical-align: middle;\n",
       "    }\n",
       "\n",
       "    .dataframe tbody tr th {\n",
       "        vertical-align: top;\n",
       "    }\n",
       "\n",
       "    .dataframe thead th {\n",
       "        text-align: right;\n",
       "    }\n",
       "</style>\n",
       "<table border=\"1\" class=\"dataframe\">\n",
       "  <thead>\n",
       "    <tr style=\"text-align: right;\">\n",
       "      <th></th>\n",
       "      <th>viewCount</th>\n",
       "      <th>likeCount</th>\n",
       "      <th>favoriteCount</th>\n",
       "      <th>commentCount</th>\n",
       "    </tr>\n",
       "  </thead>\n",
       "  <tbody>\n",
       "    <tr>\n",
       "      <th>0</th>\n",
       "      <td>4282043</td>\n",
       "      <td>46869</td>\n",
       "      <td>0</td>\n",
       "      <td>3483</td>\n",
       "    </tr>\n",
       "  </tbody>\n",
       "</table>\n",
       "</div>"
      ],
      "text/plain": [
       "  viewCount likeCount favoriteCount commentCount\n",
       "0   4282043     46869             0         3483"
      ]
     },
     "execution_count": 31,
     "metadata": {},
     "output_type": "execute_result"
    }
   ],
   "source": [
    "df2"
   ]
  },
  {
   "cell_type": "code",
   "execution_count": 46,
   "metadata": {},
   "outputs": [],
   "source": [
    "final_data = pd.concat([df, df2], axis=1)"
   ]
  },
  {
   "cell_type": "code",
   "execution_count": 47,
   "metadata": {},
   "outputs": [],
   "source": [
    "final_data['country'] = '태국'"
   ]
  },
  {
   "cell_type": "code",
   "execution_count": 48,
   "metadata": {},
   "outputs": [],
   "source": [
    "# column 드롭, 추가 및 재 정렬\n",
    "# 답변 오는거 보고 추가 드롭, 추가, 그리고 순서대로 재정렬 해야함\n",
    "# 그리고 class method로 만들기\n",
    "final_data = ut.dropAndReorganizeColumns(final_data)\n"
   ]
  },
  {
   "cell_type": "code",
   "execution_count": 49,
   "metadata": {},
   "outputs": [
    {
     "data": {
      "text/html": [
       "<div>\n",
       "<style scoped>\n",
       "    .dataframe tbody tr th:only-of-type {\n",
       "        vertical-align: middle;\n",
       "    }\n",
       "\n",
       "    .dataframe tbody tr th {\n",
       "        vertical-align: top;\n",
       "    }\n",
       "\n",
       "    .dataframe thead th {\n",
       "        text-align: right;\n",
       "    }\n",
       "</style>\n",
       "<table border=\"1\" class=\"dataframe\">\n",
       "  <thead>\n",
       "    <tr style=\"text-align: right;\">\n",
       "      <th></th>\n",
       "      <th>videoId</th>\n",
       "      <th>title</th>\n",
       "      <th>description</th>\n",
       "      <th>viewCount</th>\n",
       "      <th>likeCount</th>\n",
       "      <th>favoriteCount</th>\n",
       "      <th>commentCount</th>\n",
       "      <th>publishedAt</th>\n",
       "      <th>channelId</th>\n",
       "      <th>channelTitle</th>\n",
       "      <th>country</th>\n",
       "    </tr>\n",
       "  </thead>\n",
       "  <tbody>\n",
       "    <tr>\n",
       "      <th>0</th>\n",
       "      <td>F2utz6L76D0</td>\n",
       "      <td>방콕 풀코스, 동남아 안 가본 곽튜브와 함께 【쇼트트립】</td>\n",
       "      <td>2박~ 3일! 15:30 좁밥트립 시작 ------------------------...</td>\n",
       "      <td>4282043</td>\n",
       "      <td>46869</td>\n",
       "      <td>0</td>\n",
       "      <td>3483</td>\n",
       "      <td>2022-10-11T03:00:08Z</td>\n",
       "      <td>UCNhofiqfw5nl-NeDJkXtPvw</td>\n",
       "      <td>빠니보틀 Pani Bottle</td>\n",
       "      <td>태국</td>\n",
       "    </tr>\n",
       "  </tbody>\n",
       "</table>\n",
       "</div>"
      ],
      "text/plain": [
       "       videoId                            title  \\\n",
       "0  F2utz6L76D0  방콕 풀코스, 동남아 안 가본 곽튜브와 함께 【쇼트트립】   \n",
       "\n",
       "                                         description viewCount likeCount  \\\n",
       "0  2박~ 3일! 15:30 좁밥트립 시작 ------------------------...   4282043     46869   \n",
       "\n",
       "  favoriteCount commentCount           publishedAt                 channelId  \\\n",
       "0             0         3483  2022-10-11T03:00:08Z  UCNhofiqfw5nl-NeDJkXtPvw   \n",
       "\n",
       "       channelTitle country  \n",
       "0  빠니보틀 Pani Bottle      태국  "
      ]
     },
     "execution_count": 49,
     "metadata": {},
     "output_type": "execute_result"
    }
   ],
   "source": [
    "final_data"
   ]
  },
  {
   "cell_type": "code",
   "execution_count": 50,
   "metadata": {},
   "outputs": [],
   "source": [
    "# 최종 데이터 프레임 csv에 저장\n",
    "final_data.to_csv('./data/thailand_youtube.csv', encoding='utf-8-sig', index=False)"
   ]
  },
  {
   "cell_type": "code",
   "execution_count": 315,
   "metadata": {},
   "outputs": [
    {
     "name": "stdout",
     "output_type": "stream",
     "text": [
      "<class 'pandas.core.frame.DataFrame'>\n",
      "RangeIndex: 1 entries, 0 to 0\n",
      "Data columns (total 14 columns):\n",
      " #   Column                Non-Null Count  Dtype \n",
      "---  ------                --------------  ----- \n",
      " 0   publishedAt           1 non-null      object\n",
      " 1   channelId             1 non-null      object\n",
      " 2   title                 1 non-null      object\n",
      " 3   description           1 non-null      object\n",
      " 4   thumbnails            1 non-null      object\n",
      " 5   channelTitle          1 non-null      object\n",
      " 6   liveBroadcastContent  1 non-null      object\n",
      " 7   publishTime           1 non-null      object\n",
      " 8   videoId               1 non-null      object\n",
      " 9   viewCount             1 non-null      object\n",
      " 10  likeCount             1 non-null      object\n",
      " 11  favoriteCount         1 non-null      object\n",
      " 12  commentCount          1 non-null      object\n",
      " 13  country               1 non-null      object\n",
      "dtypes: object(14)\n",
      "memory usage: 244.0+ bytes\n"
     ]
    }
   ],
   "source": [
    "final_data.info()"
   ]
  },
  {
   "cell_type": "code",
   "execution_count": 316,
   "metadata": {},
   "outputs": [],
   "source": []
  },
  {
   "cell_type": "code",
   "execution_count": 317,
   "metadata": {},
   "outputs": [
    {
     "name": "stdout",
     "output_type": "stream",
     "text": [
      "2019\n",
      "9\n"
     ]
    }
   ],
   "source": []
  },
  {
   "cell_type": "code",
   "execution_count": 318,
   "metadata": {},
   "outputs": [],
   "source": []
  },
  {
   "cell_type": "code",
   "execution_count": 319,
   "metadata": {},
   "outputs": [
    {
     "data": {
      "text/html": [
       "<div>\n",
       "<style scoped>\n",
       "    .dataframe tbody tr th:only-of-type {\n",
       "        vertical-align: middle;\n",
       "    }\n",
       "\n",
       "    .dataframe tbody tr th {\n",
       "        vertical-align: top;\n",
       "    }\n",
       "\n",
       "    .dataframe thead th {\n",
       "        text-align: right;\n",
       "    }\n",
       "</style>\n",
       "<table border=\"1\" class=\"dataframe\">\n",
       "  <thead>\n",
       "    <tr style=\"text-align: right;\">\n",
       "      <th></th>\n",
       "      <th>Year</th>\n",
       "      <th>month</th>\n",
       "      <th>법무부_명수</th>\n",
       "      <th>법무부_전년대비</th>\n",
       "      <th>일본_명수</th>\n",
       "      <th>일본_전년대비</th>\n",
       "      <th>중국_명수</th>\n",
       "      <th>중국_전년대비</th>\n",
       "      <th>베트남_명수</th>\n",
       "      <th>베트남_전년대비</th>\n",
       "      <th>...</th>\n",
       "      <th>사이프러스_명수</th>\n",
       "      <th>사이프러스_전년대비</th>\n",
       "      <th>부탄_명수</th>\n",
       "      <th>부탄_전년대비</th>\n",
       "      <th>요르단_명수</th>\n",
       "      <th>요르단_전년대비</th>\n",
       "      <th>네팔_명수</th>\n",
       "      <th>네팔_전년대비</th>\n",
       "      <th>예멘_명수</th>\n",
       "      <th>예멘_전년대비</th>\n",
       "    </tr>\n",
       "  </thead>\n",
       "  <tbody>\n",
       "    <tr>\n",
       "      <th>0</th>\n",
       "      <td>2004년</td>\n",
       "      <td>1월</td>\n",
       "      <td>793478.0</td>\n",
       "      <td>NaN</td>\n",
       "      <td>164785.0</td>\n",
       "      <td>NaN</td>\n",
       "      <td>186246.0</td>\n",
       "      <td>NaN</td>\n",
       "      <td>NaN</td>\n",
       "      <td>NaN</td>\n",
       "      <td>...</td>\n",
       "      <td>NaN</td>\n",
       "      <td>NaN</td>\n",
       "      <td>NaN</td>\n",
       "      <td>NaN</td>\n",
       "      <td>NaN</td>\n",
       "      <td>NaN</td>\n",
       "      <td>NaN</td>\n",
       "      <td>NaN</td>\n",
       "      <td>NaN</td>\n",
       "      <td>NaN</td>\n",
       "    </tr>\n",
       "    <tr>\n",
       "      <th>1</th>\n",
       "      <td>2004년</td>\n",
       "      <td>2월</td>\n",
       "      <td>670447.0</td>\n",
       "      <td>NaN</td>\n",
       "      <td>142718.0</td>\n",
       "      <td>NaN</td>\n",
       "      <td>215373.0</td>\n",
       "      <td>NaN</td>\n",
       "      <td>NaN</td>\n",
       "      <td>NaN</td>\n",
       "      <td>...</td>\n",
       "      <td>NaN</td>\n",
       "      <td>NaN</td>\n",
       "      <td>NaN</td>\n",
       "      <td>NaN</td>\n",
       "      <td>NaN</td>\n",
       "      <td>NaN</td>\n",
       "      <td>NaN</td>\n",
       "      <td>NaN</td>\n",
       "      <td>NaN</td>\n",
       "      <td>NaN</td>\n",
       "    </tr>\n",
       "    <tr>\n",
       "      <th>2</th>\n",
       "      <td>2004년</td>\n",
       "      <td>3월</td>\n",
       "      <td>587629.0</td>\n",
       "      <td>NaN</td>\n",
       "      <td>112516.0</td>\n",
       "      <td>NaN</td>\n",
       "      <td>190382.0</td>\n",
       "      <td>NaN</td>\n",
       "      <td>NaN</td>\n",
       "      <td>NaN</td>\n",
       "      <td>...</td>\n",
       "      <td>NaN</td>\n",
       "      <td>NaN</td>\n",
       "      <td>NaN</td>\n",
       "      <td>NaN</td>\n",
       "      <td>NaN</td>\n",
       "      <td>NaN</td>\n",
       "      <td>NaN</td>\n",
       "      <td>NaN</td>\n",
       "      <td>NaN</td>\n",
       "      <td>NaN</td>\n",
       "    </tr>\n",
       "    <tr>\n",
       "      <th>3</th>\n",
       "      <td>2004년</td>\n",
       "      <td>4월</td>\n",
       "      <td>642413.0</td>\n",
       "      <td>NaN</td>\n",
       "      <td>120427.0</td>\n",
       "      <td>NaN</td>\n",
       "      <td>223062.0</td>\n",
       "      <td>NaN</td>\n",
       "      <td>NaN</td>\n",
       "      <td>NaN</td>\n",
       "      <td>...</td>\n",
       "      <td>NaN</td>\n",
       "      <td>NaN</td>\n",
       "      <td>NaN</td>\n",
       "      <td>NaN</td>\n",
       "      <td>NaN</td>\n",
       "      <td>NaN</td>\n",
       "      <td>NaN</td>\n",
       "      <td>NaN</td>\n",
       "      <td>NaN</td>\n",
       "      <td>NaN</td>\n",
       "    </tr>\n",
       "    <tr>\n",
       "      <th>4</th>\n",
       "      <td>2004년</td>\n",
       "      <td>5월</td>\n",
       "      <td>680185.0</td>\n",
       "      <td>NaN</td>\n",
       "      <td>115659.0</td>\n",
       "      <td>NaN</td>\n",
       "      <td>202592.0</td>\n",
       "      <td>NaN</td>\n",
       "      <td>NaN</td>\n",
       "      <td>NaN</td>\n",
       "      <td>...</td>\n",
       "      <td>NaN</td>\n",
       "      <td>NaN</td>\n",
       "      <td>NaN</td>\n",
       "      <td>NaN</td>\n",
       "      <td>NaN</td>\n",
       "      <td>NaN</td>\n",
       "      <td>NaN</td>\n",
       "      <td>NaN</td>\n",
       "      <td>NaN</td>\n",
       "      <td>NaN</td>\n",
       "    </tr>\n",
       "    <tr>\n",
       "      <th>...</th>\n",
       "      <td>...</td>\n",
       "      <td>...</td>\n",
       "      <td>...</td>\n",
       "      <td>...</td>\n",
       "      <td>...</td>\n",
       "      <td>...</td>\n",
       "      <td>...</td>\n",
       "      <td>...</td>\n",
       "      <td>...</td>\n",
       "      <td>...</td>\n",
       "      <td>...</td>\n",
       "      <td>...</td>\n",
       "      <td>...</td>\n",
       "      <td>...</td>\n",
       "      <td>...</td>\n",
       "      <td>...</td>\n",
       "      <td>...</td>\n",
       "      <td>...</td>\n",
       "      <td>...</td>\n",
       "      <td>...</td>\n",
       "      <td>...</td>\n",
       "    </tr>\n",
       "    <tr>\n",
       "      <th>259</th>\n",
       "      <td>2019년</td>\n",
       "      <td>누계</td>\n",
       "      <td>28714247.0</td>\n",
       "      <td>0.000636</td>\n",
       "      <td>5584597.0</td>\n",
       "      <td>-0.259234</td>\n",
       "      <td>4346567.0</td>\n",
       "      <td>0.036924</td>\n",
       "      <td>4290802.0</td>\n",
       "      <td>0.248994</td>\n",
       "      <td>...</td>\n",
       "      <td>NaN</td>\n",
       "      <td>NaN</td>\n",
       "      <td>1408.0</td>\n",
       "      <td>0.410822</td>\n",
       "      <td>20322.0</td>\n",
       "      <td>0.356156</td>\n",
       "      <td>31108</td>\n",
       "      <td>-0.16416787575904135</td>\n",
       "      <td>NaN</td>\n",
       "      <td>NaN</td>\n",
       "    </tr>\n",
       "    <tr>\n",
       "      <th>260</th>\n",
       "      <td>2020년</td>\n",
       "      <td>누계</td>\n",
       "      <td>4276006.0</td>\n",
       "      <td>-0.851084</td>\n",
       "      <td>487939.0</td>\n",
       "      <td>-0.912628</td>\n",
       "      <td>0.0</td>\n",
       "      <td>NaN</td>\n",
       "      <td>840041.0</td>\n",
       "      <td>-0.804223</td>\n",
       "      <td>...</td>\n",
       "      <td>0.0</td>\n",
       "      <td>NaN</td>\n",
       "      <td>142.0</td>\n",
       "      <td>-0.899148</td>\n",
       "      <td>6825.0</td>\n",
       "      <td>-0.664157</td>\n",
       "      <td>6944</td>\n",
       "      <td>-0.7767776777677768</td>\n",
       "      <td>0</td>\n",
       "      <td>NaN</td>\n",
       "    </tr>\n",
       "    <tr>\n",
       "      <th>261</th>\n",
       "      <td>2021년</td>\n",
       "      <td>누계</td>\n",
       "      <td>1222541.0</td>\n",
       "      <td>-0.714093</td>\n",
       "      <td>18947.0</td>\n",
       "      <td>-0.961169</td>\n",
       "      <td>0.0</td>\n",
       "      <td>NaN</td>\n",
       "      <td>32500.0</td>\n",
       "      <td>-0.961311</td>\n",
       "      <td>...</td>\n",
       "      <td>0.0</td>\n",
       "      <td>NaN</td>\n",
       "      <td>0.0</td>\n",
       "      <td>NaN</td>\n",
       "      <td>1031.0</td>\n",
       "      <td>-0.848938</td>\n",
       "      <td>0</td>\n",
       "      <td>NaN</td>\n",
       "      <td>0</td>\n",
       "      <td>NaN</td>\n",
       "    </tr>\n",
       "    <tr>\n",
       "      <th>262</th>\n",
       "      <td>2022년</td>\n",
       "      <td>누계</td>\n",
       "      <td>6554031.0</td>\n",
       "      <td>4.360991</td>\n",
       "      <td>1012751.0</td>\n",
       "      <td>52.451787</td>\n",
       "      <td>0.0</td>\n",
       "      <td>NaN</td>\n",
       "      <td>769167.0</td>\n",
       "      <td>NaN</td>\n",
       "      <td>...</td>\n",
       "      <td>0.0</td>\n",
       "      <td>NaN</td>\n",
       "      <td>0.0</td>\n",
       "      <td>NaN</td>\n",
       "      <td>0.0</td>\n",
       "      <td>NaN</td>\n",
       "      <td>0</td>\n",
       "      <td>NaN</td>\n",
       "      <td>NaN</td>\n",
       "      <td>NaN</td>\n",
       "    </tr>\n",
       "    <tr>\n",
       "      <th>263</th>\n",
       "      <td>2023년</td>\n",
       "      <td>누계</td>\n",
       "      <td>8159513.0</td>\n",
       "      <td>7.709519</td>\n",
       "      <td>2583383.0</td>\n",
       "      <td>100.808197</td>\n",
       "      <td>0.0</td>\n",
       "      <td>NaN</td>\n",
       "      <td>1317833.0</td>\n",
       "      <td>NaN</td>\n",
       "      <td>...</td>\n",
       "      <td>0.0</td>\n",
       "      <td>NaN</td>\n",
       "      <td>0.0</td>\n",
       "      <td>NaN</td>\n",
       "      <td>0.0</td>\n",
       "      <td>NaN</td>\n",
       "      <td>0</td>\n",
       "      <td>NaN</td>\n",
       "      <td>NaN</td>\n",
       "      <td>NaN</td>\n",
       "    </tr>\n",
       "  </tbody>\n",
       "</table>\n",
       "<p>264 rows × 54 columns</p>\n",
       "</div>"
      ],
      "text/plain": [
       "      Year month      법무부_명수  법무부_전년대비      일본_명수     일본_전년대비      중국_명수  \\\n",
       "0    2004년    1월    793478.0       NaN   164785.0         NaN   186246.0   \n",
       "1    2004년    2월    670447.0       NaN   142718.0         NaN   215373.0   \n",
       "2    2004년    3월    587629.0       NaN   112516.0         NaN   190382.0   \n",
       "3    2004년    4월    642413.0       NaN   120427.0         NaN   223062.0   \n",
       "4    2004년    5월    680185.0       NaN   115659.0         NaN   202592.0   \n",
       "..     ...   ...         ...       ...        ...         ...        ...   \n",
       "259  2019년    누계  28714247.0  0.000636  5584597.0   -0.259234  4346567.0   \n",
       "260  2020년    누계   4276006.0 -0.851084   487939.0   -0.912628        0.0   \n",
       "261  2021년    누계   1222541.0 -0.714093    18947.0   -0.961169        0.0   \n",
       "262  2022년    누계   6554031.0  4.360991  1012751.0   52.451787        0.0   \n",
       "263  2023년    누계   8159513.0  7.709519  2583383.0  100.808197        0.0   \n",
       "\n",
       "      중국_전년대비     베트남_명수  베트남_전년대비  ...  사이프러스_명수 사이프러스_전년대비   부탄_명수  \\\n",
       "0         NaN        NaN       NaN  ...       NaN        NaN     NaN   \n",
       "1         NaN        NaN       NaN  ...       NaN        NaN     NaN   \n",
       "2         NaN        NaN       NaN  ...       NaN        NaN     NaN   \n",
       "3         NaN        NaN       NaN  ...       NaN        NaN     NaN   \n",
       "4         NaN        NaN       NaN  ...       NaN        NaN     NaN   \n",
       "..        ...        ...       ...  ...       ...        ...     ...   \n",
       "259  0.036924  4290802.0  0.248994  ...       NaN        NaN  1408.0   \n",
       "260       NaN   840041.0 -0.804223  ...       0.0        NaN   142.0   \n",
       "261       NaN    32500.0 -0.961311  ...       0.0        NaN     0.0   \n",
       "262       NaN   769167.0       NaN  ...       0.0        NaN     0.0   \n",
       "263       NaN  1317833.0       NaN  ...       0.0        NaN     0.0   \n",
       "\n",
       "      부탄_전년대비   요르단_명수  요르단_전년대비  네팔_명수               네팔_전년대비  예멘_명수 예멘_전년대비  \n",
       "0         NaN      NaN       NaN    NaN                   NaN    NaN     NaN  \n",
       "1         NaN      NaN       NaN    NaN                   NaN    NaN     NaN  \n",
       "2         NaN      NaN       NaN    NaN                   NaN    NaN     NaN  \n",
       "3         NaN      NaN       NaN    NaN                   NaN    NaN     NaN  \n",
       "4         NaN      NaN       NaN    NaN                   NaN    NaN     NaN  \n",
       "..        ...      ...       ...    ...                   ...    ...     ...  \n",
       "259  0.410822  20322.0  0.356156  31108  -0.16416787575904135    NaN     NaN  \n",
       "260 -0.899148   6825.0 -0.664157   6944   -0.7767776777677768      0     NaN  \n",
       "261       NaN   1031.0 -0.848938      0                   NaN      0     NaN  \n",
       "262       NaN      0.0       NaN      0                   NaN    NaN     NaN  \n",
       "263       NaN      0.0       NaN      0                   NaN    NaN     NaN  \n",
       "\n",
       "[264 rows x 54 columns]"
      ]
     },
     "execution_count": 319,
     "metadata": {},
     "output_type": "execute_result"
    }
   ],
   "source": [
    "asia_data"
   ]
  },
  {
   "cell_type": "code",
   "execution_count": 320,
   "metadata": {},
   "outputs": [
    {
     "data": {
      "text/plain": [
       "188"
      ]
     },
     "execution_count": 320,
     "metadata": {},
     "output_type": "execute_result"
    }
   ],
   "source": []
  },
  {
   "cell_type": "code",
   "execution_count": 321,
   "metadata": {},
   "outputs": [],
   "source": []
  },
  {
   "cell_type": "code",
   "execution_count": 322,
   "metadata": {},
   "outputs": [],
   "source": []
  },
  {
   "cell_type": "code",
   "execution_count": 323,
   "metadata": {},
   "outputs": [
    {
     "name": "stderr",
     "output_type": "stream",
     "text": [
      "C:\\Users\\TT21\\anaconda3\\Lib\\site-packages\\IPython\\core\\pylabtools.py:152: UserWarning: Glyph 45824 (\\N{HANGUL SYLLABLE DAE}) missing from current font.\n",
      "  fig.canvas.print_figure(bytes_io, **kw)\n",
      "C:\\Users\\TT21\\anaconda3\\Lib\\site-packages\\IPython\\core\\pylabtools.py:152: UserWarning: Glyph 47564 (\\N{HANGUL SYLLABLE MAN}) missing from current font.\n",
      "  fig.canvas.print_figure(bytes_io, **kw)\n",
      "C:\\Users\\TT21\\anaconda3\\Lib\\site-packages\\IPython\\core\\pylabtools.py:152: UserWarning: Glyph 47749 (\\N{HANGUL SYLLABLE MYEONG}) missing from current font.\n",
      "  fig.canvas.print_figure(bytes_io, **kw)\n",
      "C:\\Users\\TT21\\anaconda3\\Lib\\site-packages\\IPython\\core\\pylabtools.py:152: UserWarning: Glyph 49688 (\\N{HANGUL SYLLABLE SU}) missing from current font.\n",
      "  fig.canvas.print_figure(bytes_io, **kw)\n"
     ]
    },
    {
     "data": {
      "image/png": "[encoded data removed]",
      "text/plain": [
       "<Figure size 640x480 with 1 Axes>"
      ]
     },
     "metadata": {},
     "output_type": "display_data"
    }
   ],
   "source": []
  },
  {
   "cell_type": "code",
   "execution_count": 324,
   "metadata": {},
   "outputs": [
    {
     "name": "stderr",
     "output_type": "stream",
     "text": [
      "C:\\Users\\TT21\\anaconda3\\Lib\\site-packages\\IPython\\core\\pylabtools.py:152: UserWarning: Glyph 45824 (\\N{HANGUL SYLLABLE DAE}) missing from current font.\n",
      "  fig.canvas.print_figure(bytes_io, **kw)\n",
      "C:\\Users\\TT21\\anaconda3\\Lib\\site-packages\\IPython\\core\\pylabtools.py:152: UserWarning: Glyph 47564 (\\N{HANGUL SYLLABLE MAN}) missing from current font.\n",
      "  fig.canvas.print_figure(bytes_io, **kw)\n",
      "C:\\Users\\TT21\\anaconda3\\Lib\\site-packages\\IPython\\core\\pylabtools.py:152: UserWarning: Glyph 47749 (\\N{HANGUL SYLLABLE MYEONG}) missing from current font.\n",
      "  fig.canvas.print_figure(bytes_io, **kw)\n",
      "C:\\Users\\TT21\\anaconda3\\Lib\\site-packages\\IPython\\core\\pylabtools.py:152: UserWarning: Glyph 49688 (\\N{HANGUL SYLLABLE SU}) missing from current font.\n",
      "  fig.canvas.print_figure(bytes_io, **kw)\n"
     ]
    },
    {
     "data": {
      "image/png": "[encoded data removed]",
      "text/plain": [
       "<Figure size 640x480 with 1 Axes>"
      ]
     },
     "metadata": {},
     "output_type": "display_data"
    }
   ],
   "source": [
    "sns.lineplot(data = taiwan_after)\n",
    "plt.ylim(0, 170000)\n",
    "plt.title('After video release')\n",
    "plt.show()"
   ]
  },
  {
   "cell_type": "code",
   "execution_count": null,
   "metadata": {},
   "outputs": [],
   "source": []
  }
 ],
 "metadata": {
  "kernelspec": {
   "display_name": "Python 3 (ipykernel)",
   "language": "python",
   "name": "python3"
  },
  "language_info": {
   "codemirror_mode": {
    "name": "ipython",
    "version": 3
   },
   "file_extension": ".py",
   "mimetype": "text/x-python",
   "name": "python",
   "nbconvert_exporter": "python",
   "pygments_lexer": "ipython3",
   "version": "3.11.3"
  }
 },
 "nbformat": 4,
 "nbformat_minor": 2
}
