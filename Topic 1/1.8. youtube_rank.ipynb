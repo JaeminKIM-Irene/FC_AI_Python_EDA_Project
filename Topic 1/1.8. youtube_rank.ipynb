{
 "cells": [
  {
   "cell_type": "code",
   "execution_count": 2,
   "metadata": {},
   "outputs": [],
   "source": [
    "import json\n",
    "import pandas as pd\n",
    "import numpy as np\n",
    "from urllib import parse\n",
    "import requests\n",
    "from bs4 import BeautifulSoup as bs\n",
    "import re"
   ]
  },
  {
   "cell_type": "code",
   "execution_count": 4,
   "metadata": {},
   "outputs": [],
   "source": [
    "# 여행 카테고리 top10\n",
    "res = requests.get('https://youtube-rank.com/board/bbs/board.php?bo_table=youtube&sca=%EA%B5%AD%EB%82%B4%2F%ED%95%B4%EC%99%B8%2F%EC%97%AC%ED%96%89')\n",
    "soup = bs(res.text, 'html.parser')\n",
    "\n",
    "channel_list = soup.select('table .subject h1 a')[0:10]\n",
    "\n",
    "channel_list = [x.text.strip() for x in channel_list]"
   ]
  },
  {
   "cell_type": "code",
   "execution_count": 5,
   "metadata": {},
   "outputs": [
    {
     "data": {
      "text/plain": [
       "['빠니보틀 Pani Bottle',\n",
       " '곽튜브',\n",
       " 'Rirang OnAir',\n",
       " '코이티비 KOITV',\n",
       " 'EBS 컬렉션 - 라이프스타일',\n",
       " 'Sophie Kim _하은',\n",
       " '진정부부',\n",
       " '끼룩푸드 seagull food',\n",
       " '원지의하루',\n",
       " '브레이너 제이의 숙면 여행']"
      ]
     },
     "execution_count": 5,
     "metadata": {},
     "output_type": "execute_result"
    }
   ],
   "source": [
    "channel_list"
   ]
  },
  {
   "cell_type": "code",
   "execution_count": 6,
   "metadata": {
    "scrolled": true
   },
   "outputs": [
    {
     "name": "stdout",
     "output_type": "stream",
     "text": [
      "[190, 167, 131, 115, 94, 89, 86, 82, 78, 68]\n",
      "[42516, 37643, 21006, 99444, 63142, 2969, 36335, 57380, 14445, 13431]\n",
      "[301, 311, 269, 1878, 3698, 129, 352, 695, 351, 200]\n",
      "[4894, 1798, 5344, 10874, 5578, 4930, 230, 647, 3142, 3916]\n"
     ]
    }
   ],
   "source": [
    "count_list = soup.select('table .subject h3')[0:10]\n",
    "subs = []\n",
    "view = []\n",
    "video = []\n",
    "search = []\n",
    "\n",
    "for i in count_list :\n",
    "    a, b, c = i.text.split()\n",
    "    s_v_split = re.split(r'^(\\d{1,3}[만])', a)\n",
    "    subs.append(int(s_v_split[1].split('만')[0]))\n",
    "    view.append(int(''.join(s_v_split[2][:-1].split('억'))))\n",
    "    video.append(int(b.replace(',', '')))\n",
    "    search.append(int(c.replace(',', '')))\n",
    "\n",
    "print(subs)\n",
    "print(view)\n",
    "print(video)\n",
    "print(search)"
   ]
  },
  {
   "cell_type": "code",
   "execution_count": 9,
   "metadata": {},
   "outputs": [],
   "source": [
    "youtuber_rank = pd.DataFrame()\n",
    "\n",
    "youtuber_rank['channel_name'] = channel_list\n",
    "youtuber_rank['subscriber (10th)'] = subs\n",
    "youtuber_rank['cum_view (10th)'] = view\n",
    "youtuber_rank['video'] = video\n",
    "youtuber_rank['search'] = search\n",
    "youtuber_rank['category'] = '국내/해외/여행'"
   ]
  },
  {
   "cell_type": "code",
   "execution_count": 11,
   "metadata": {},
   "outputs": [],
   "source": [
    "youtuber_rank.to_csv('./data/youtuber_rank_top10.csv', encoding='utf-8-sig', index=False)"
   ]
  },
  {
   "cell_type": "code",
   "execution_count": null,
   "metadata": {},
   "outputs": [],
   "source": []
  },
  {
   "cell_type": "code",
   "execution_count": 45,
   "metadata": {},
   "outputs": [],
   "source": [
    "# 사용된 유튜버 채널\n",
    "res = requests.get('https://youtube-rank.com/board/bbs/search.php?sfl=wr_subject%7C%7Cwr_content%7C%7Cdescription&stx=%EB%B0%B1%EC%A2%85%EC%9B%90')\n",
    "soup = bs(res.text, 'html.parser')\n",
    "\n",
    "channel_list = soup.select('table .subject h1 a')[0]\n",
    "channel_name = channel_list.text.strip().split('\\n')[1]\n",
    "\n",
    "count = soup.select('table .subject h3')[0]\n",
    "subs = []\n",
    "view = []\n",
    "video = []\n",
    "search = []\n",
    "\n",
    "subs, view, video = count.text.split()\n",
    "\n",
    "subs = int(subs.split('만')[0])\n",
    "view = int(''.join(view[:-1].split('억')))\n",
    "video = int(video.replace(',', ''))\n",
    "\n",
    "baek = [channel_name, subs, view, video, 0, '음식/요리/레시피']"
   ]
  },
  {
   "cell_type": "code",
   "execution_count": 79,
   "metadata": {},
   "outputs": [],
   "source": [
    "res = requests.get('https://youtube-rank.com/board/bbs/search.php?sfl=wr_subject%7C%7Cwr_content%7C%7Cdescription&stx=%ED%86%A0%EB%AA%A8%ED%86%A0%EB%AA%A8')\n",
    "soup = bs(res.text, 'html.parser')\n",
    "\n",
    "channel_list = soup.select('table .subject h1 a')[0]\n",
    "channel_name = channel_list.text.strip().split('\\n')[1]\n",
    "\n",
    "count = soup.select('table .subject h3')[0]\n",
    "\n",
    "subs, view, video = count.text.split()\n",
    "\n",
    "subs = int(subs.split('만')[0])\n",
    "view = int(''.join(view[:-1].split('억')))\n",
    "video = int(video.replace(',', ''))\n",
    "category = soup.select('table .subject h1 a span')[0].text\n",
    "\n",
    "category = re.sub('\\[|\\]', '', category)\n",
    "\n",
    "tomotomo = [channel_name, subs, view, video, 0, category]"
   ]
  },
  {
   "cell_type": "code",
   "execution_count": 77,
   "metadata": {},
   "outputs": [],
   "source": [
    "res = requests.get('https://youtube-rank.com/board/bbs/search.php?srows=10&gr_id=&sfl=wr_subject%7C%7Cwr_content%7C%7Cdescription%7C%7Cwr_link1&stx=%EC%97%AC%ED%96%89%EA%B0%80+%EC%A0%9C%EC%9D%B4&sop=and')\n",
    "soup = bs(res.text, 'html.parser')\n",
    "\n",
    "channel_list = soup.select('table .subject h1 a')[0]\n",
    "channel_name = channel_list.text.strip().split('\\n')[1]\n",
    "\n",
    "count = soup.select('table .subject h3')[0]\n",
    "\n",
    "subs, view, video = count.text.split()\n",
    "\n",
    "subs = int(subs.split('만')[0])\n",
    "view = int(''.join(view[:-1].split('억')))\n",
    "video = int(video.replace(',', ''))\n",
    "category = soup.select('table .subject h1 a span')[0].text\n",
    "\n",
    "category = re.sub('\\[|\\]', '', category)\n",
    "\n",
    "jay = [channel_name, subs, view, video, 0, category]"
   ]
  },
  {
   "cell_type": "code",
   "execution_count": 80,
   "metadata": {},
   "outputs": [
    {
     "data": {
      "text/plain": [
       "['토모토모TomoTomo', 103, 23139, 206, 0, '미분류']"
      ]
     },
     "execution_count": 80,
     "metadata": {},
     "output_type": "execute_result"
    }
   ],
   "source": [
    "tomotomo"
   ]
  },
  {
   "cell_type": "code",
   "execution_count": null,
   "metadata": {},
   "outputs": [],
   "source": []
  },
  {
   "cell_type": "code",
   "execution_count": 81,
   "metadata": {},
   "outputs": [
    {
     "name": "stderr",
     "output_type": "stream",
     "text": [
      "C:\\Users\\TT21\\AppData\\Local\\Temp\\ipykernel_48168\\2991888735.py:4: FutureWarning: The frame.append method is deprecated and will be removed from pandas in a future version. Use pandas.concat instead.\n",
      "  used_youtuber = youtuber_rank.append(additional, ignore_index=True)\n"
     ]
    }
   ],
   "source": [
    "additional = pd.DataFrame([baek, tomotomo, jay], \n",
    "             columns = ['channel_name', 'subscriber (10th)', 'cum_view (10th)', 'video', 'search', 'category'])\n",
    "\n",
    "used_youtuber = youtuber_rank.append(additional, ignore_index=True)"
   ]
  },
  {
   "cell_type": "code",
   "execution_count": 82,
   "metadata": {},
   "outputs": [
    {
     "data": {
      "text/html": [
       "<div>\n",
       "<style scoped>\n",
       "    .dataframe tbody tr th:only-of-type {\n",
       "        vertical-align: middle;\n",
       "    }\n",
       "\n",
       "    .dataframe tbody tr th {\n",
       "        vertical-align: top;\n",
       "    }\n",
       "\n",
       "    .dataframe thead th {\n",
       "        text-align: right;\n",
       "    }\n",
       "</style>\n",
       "<table border=\"1\" class=\"dataframe\">\n",
       "  <thead>\n",
       "    <tr style=\"text-align: right;\">\n",
       "      <th></th>\n",
       "      <th>channel_name</th>\n",
       "      <th>subscriber (10th)</th>\n",
       "      <th>cum_view (10th)</th>\n",
       "      <th>video</th>\n",
       "      <th>search</th>\n",
       "      <th>category</th>\n",
       "    </tr>\n",
       "  </thead>\n",
       "  <tbody>\n",
       "    <tr>\n",
       "      <th>0</th>\n",
       "      <td>빠니보틀 Pani Bottle</td>\n",
       "      <td>190</td>\n",
       "      <td>42516</td>\n",
       "      <td>301</td>\n",
       "      <td>4894</td>\n",
       "      <td>국내/해외/여행</td>\n",
       "    </tr>\n",
       "    <tr>\n",
       "      <th>1</th>\n",
       "      <td>곽튜브</td>\n",
       "      <td>167</td>\n",
       "      <td>37643</td>\n",
       "      <td>311</td>\n",
       "      <td>1798</td>\n",
       "      <td>국내/해외/여행</td>\n",
       "    </tr>\n",
       "    <tr>\n",
       "      <th>2</th>\n",
       "      <td>Rirang OnAir</td>\n",
       "      <td>131</td>\n",
       "      <td>21006</td>\n",
       "      <td>269</td>\n",
       "      <td>5344</td>\n",
       "      <td>국내/해외/여행</td>\n",
       "    </tr>\n",
       "    <tr>\n",
       "      <th>3</th>\n",
       "      <td>코이티비 KOITV</td>\n",
       "      <td>115</td>\n",
       "      <td>99444</td>\n",
       "      <td>1878</td>\n",
       "      <td>10874</td>\n",
       "      <td>국내/해외/여행</td>\n",
       "    </tr>\n",
       "    <tr>\n",
       "      <th>4</th>\n",
       "      <td>EBS 컬렉션 - 라이프스타일</td>\n",
       "      <td>94</td>\n",
       "      <td>63142</td>\n",
       "      <td>3698</td>\n",
       "      <td>5578</td>\n",
       "      <td>국내/해외/여행</td>\n",
       "    </tr>\n",
       "    <tr>\n",
       "      <th>5</th>\n",
       "      <td>Sophie Kim _하은</td>\n",
       "      <td>89</td>\n",
       "      <td>2969</td>\n",
       "      <td>129</td>\n",
       "      <td>4930</td>\n",
       "      <td>국내/해외/여행</td>\n",
       "    </tr>\n",
       "    <tr>\n",
       "      <th>6</th>\n",
       "      <td>진정부부</td>\n",
       "      <td>86</td>\n",
       "      <td>36335</td>\n",
       "      <td>352</td>\n",
       "      <td>230</td>\n",
       "      <td>국내/해외/여행</td>\n",
       "    </tr>\n",
       "    <tr>\n",
       "      <th>7</th>\n",
       "      <td>끼룩푸드 seagull food</td>\n",
       "      <td>82</td>\n",
       "      <td>57380</td>\n",
       "      <td>695</td>\n",
       "      <td>647</td>\n",
       "      <td>국내/해외/여행</td>\n",
       "    </tr>\n",
       "    <tr>\n",
       "      <th>8</th>\n",
       "      <td>원지의하루</td>\n",
       "      <td>78</td>\n",
       "      <td>14445</td>\n",
       "      <td>351</td>\n",
       "      <td>3142</td>\n",
       "      <td>국내/해외/여행</td>\n",
       "    </tr>\n",
       "    <tr>\n",
       "      <th>9</th>\n",
       "      <td>브레이너 제이의 숙면 여행</td>\n",
       "      <td>68</td>\n",
       "      <td>13431</td>\n",
       "      <td>200</td>\n",
       "      <td>3916</td>\n",
       "      <td>국내/해외/여행</td>\n",
       "    </tr>\n",
       "    <tr>\n",
       "      <th>10</th>\n",
       "      <td>백종원 PAIK JONG WON</td>\n",
       "      <td>592</td>\n",
       "      <td>98491</td>\n",
       "      <td>559</td>\n",
       "      <td>0</td>\n",
       "      <td>음식/요리/레시피</td>\n",
       "    </tr>\n",
       "    <tr>\n",
       "      <th>11</th>\n",
       "      <td>토모토모TomoTomo</td>\n",
       "      <td>103</td>\n",
       "      <td>23139</td>\n",
       "      <td>206</td>\n",
       "      <td>0</td>\n",
       "      <td>미분류</td>\n",
       "    </tr>\n",
       "    <tr>\n",
       "      <th>12</th>\n",
       "      <td>여행가 제이 [Jay world traveler]</td>\n",
       "      <td>60</td>\n",
       "      <td>14456</td>\n",
       "      <td>379</td>\n",
       "      <td>0</td>\n",
       "      <td>국내/해외/여행</td>\n",
       "    </tr>\n",
       "  </tbody>\n",
       "</table>\n",
       "</div>"
      ],
      "text/plain": [
       "                   channel_name  subscriber (10th)  cum_view (10th)  video  \\\n",
       "0              빠니보틀 Pani Bottle                190            42516    301   \n",
       "1                           곽튜브                167            37643    311   \n",
       "2                  Rirang OnAir                131            21006    269   \n",
       "3                    코이티비 KOITV                115            99444   1878   \n",
       "4              EBS 컬렉션 - 라이프스타일                 94            63142   3698   \n",
       "5                Sophie Kim _하은                 89             2969    129   \n",
       "6                          진정부부                 86            36335    352   \n",
       "7             끼룩푸드 seagull food                 82            57380    695   \n",
       "8                         원지의하루                 78            14445    351   \n",
       "9                브레이너 제이의 숙면 여행                 68            13431    200   \n",
       "10            백종원 PAIK JONG WON                592            98491    559   \n",
       "11                 토모토모TomoTomo                103            23139    206   \n",
       "12  여행가 제이 [Jay world traveler]                 60            14456    379   \n",
       "\n",
       "    search   category  \n",
       "0     4894   국내/해외/여행  \n",
       "1     1798   국내/해외/여행  \n",
       "2     5344   국내/해외/여행  \n",
       "3    10874   국내/해외/여행  \n",
       "4     5578   국내/해외/여행  \n",
       "5     4930   국내/해외/여행  \n",
       "6      230   국내/해외/여행  \n",
       "7      647   국내/해외/여행  \n",
       "8     3142   국내/해외/여행  \n",
       "9     3916   국내/해외/여행  \n",
       "10       0  음식/요리/레시피  \n",
       "11       0        미분류  \n",
       "12       0   국내/해외/여행  "
      ]
     },
     "execution_count": 82,
     "metadata": {},
     "output_type": "execute_result"
    }
   ],
   "source": [
    "used_youtuber"
   ]
  },
  {
   "cell_type": "code",
   "execution_count": 83,
   "metadata": {},
   "outputs": [],
   "source": [
    "used_youtuber = used_youtuber.drop([2, 4, 5, 6, 7, 8, 9])"
   ]
  },
  {
   "cell_type": "code",
   "execution_count": 84,
   "metadata": {},
   "outputs": [],
   "source": [
    "used_youtuber = used_youtuber.sort_values('subscriber (10th)', ascending=False)"
   ]
  },
  {
   "cell_type": "code",
   "execution_count": 85,
   "metadata": {},
   "outputs": [
    {
     "data": {
      "text/html": [
       "<div>\n",
       "<style scoped>\n",
       "    .dataframe tbody tr th:only-of-type {\n",
       "        vertical-align: middle;\n",
       "    }\n",
       "\n",
       "    .dataframe tbody tr th {\n",
       "        vertical-align: top;\n",
       "    }\n",
       "\n",
       "    .dataframe thead th {\n",
       "        text-align: right;\n",
       "    }\n",
       "</style>\n",
       "<table border=\"1\" class=\"dataframe\">\n",
       "  <thead>\n",
       "    <tr style=\"text-align: right;\">\n",
       "      <th></th>\n",
       "      <th>channel_name</th>\n",
       "      <th>subscriber (10th)</th>\n",
       "      <th>cum_view (10th)</th>\n",
       "      <th>video</th>\n",
       "      <th>search</th>\n",
       "      <th>category</th>\n",
       "    </tr>\n",
       "  </thead>\n",
       "  <tbody>\n",
       "    <tr>\n",
       "      <th>10</th>\n",
       "      <td>백종원 PAIK JONG WON</td>\n",
       "      <td>592</td>\n",
       "      <td>98491</td>\n",
       "      <td>559</td>\n",
       "      <td>0</td>\n",
       "      <td>음식/요리/레시피</td>\n",
       "    </tr>\n",
       "    <tr>\n",
       "      <th>0</th>\n",
       "      <td>빠니보틀 Pani Bottle</td>\n",
       "      <td>190</td>\n",
       "      <td>42516</td>\n",
       "      <td>301</td>\n",
       "      <td>4894</td>\n",
       "      <td>국내/해외/여행</td>\n",
       "    </tr>\n",
       "    <tr>\n",
       "      <th>1</th>\n",
       "      <td>곽튜브</td>\n",
       "      <td>167</td>\n",
       "      <td>37643</td>\n",
       "      <td>311</td>\n",
       "      <td>1798</td>\n",
       "      <td>국내/해외/여행</td>\n",
       "    </tr>\n",
       "    <tr>\n",
       "      <th>3</th>\n",
       "      <td>코이티비 KOITV</td>\n",
       "      <td>115</td>\n",
       "      <td>99444</td>\n",
       "      <td>1878</td>\n",
       "      <td>10874</td>\n",
       "      <td>국내/해외/여행</td>\n",
       "    </tr>\n",
       "    <tr>\n",
       "      <th>11</th>\n",
       "      <td>토모토모TomoTomo</td>\n",
       "      <td>103</td>\n",
       "      <td>23139</td>\n",
       "      <td>206</td>\n",
       "      <td>0</td>\n",
       "      <td>미분류</td>\n",
       "    </tr>\n",
       "    <tr>\n",
       "      <th>12</th>\n",
       "      <td>여행가 제이 [Jay world traveler]</td>\n",
       "      <td>60</td>\n",
       "      <td>14456</td>\n",
       "      <td>379</td>\n",
       "      <td>0</td>\n",
       "      <td>국내/해외/여행</td>\n",
       "    </tr>\n",
       "  </tbody>\n",
       "</table>\n",
       "</div>"
      ],
      "text/plain": [
       "                   channel_name  subscriber (10th)  cum_view (10th)  video  \\\n",
       "10            백종원 PAIK JONG WON                592            98491    559   \n",
       "0              빠니보틀 Pani Bottle                190            42516    301   \n",
       "1                           곽튜브                167            37643    311   \n",
       "3                    코이티비 KOITV                115            99444   1878   \n",
       "11                 토모토모TomoTomo                103            23139    206   \n",
       "12  여행가 제이 [Jay world traveler]                 60            14456    379   \n",
       "\n",
       "    search   category  \n",
       "10       0  음식/요리/레시피  \n",
       "0     4894   국내/해외/여행  \n",
       "1     1798   국내/해외/여행  \n",
       "3    10874   국내/해외/여행  \n",
       "11       0        미분류  \n",
       "12       0   국내/해외/여행  "
      ]
     },
     "execution_count": 85,
     "metadata": {},
     "output_type": "execute_result"
    }
   ],
   "source": [
    "used_youtuber"
   ]
  },
  {
   "cell_type": "code",
   "execution_count": 86,
   "metadata": {},
   "outputs": [],
   "source": [
    "used_youtuber.to_csv('./data/used_youtuber.csv', encoding='utf-8-sig', index=False)"
   ]
  },
  {
   "cell_type": "code",
   "execution_count": null,
   "metadata": {},
   "outputs": [],
   "source": []
  }
 ],
 "metadata": {
  "kernelspec": {
   "display_name": "Python 3 (ipykernel)",
   "language": "python",
   "name": "python3"
  },
  "language_info": {
   "codemirror_mode": {
    "name": "ipython",
    "version": 3
   },
   "file_extension": ".py",
   "mimetype": "text/x-python",
   "name": "python",
   "nbconvert_exporter": "python",
   "pygments_lexer": "ipython3",
   "version": "3.11.3"
  }
 },
 "nbformat": 4,
 "nbformat_minor": 2
}
