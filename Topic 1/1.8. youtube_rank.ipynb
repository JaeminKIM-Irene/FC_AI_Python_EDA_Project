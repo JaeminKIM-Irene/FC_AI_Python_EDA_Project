{
 "cells": [
  {
   "cell_type": "code",
   "execution_count": 1,
   "metadata": {},
   "outputs": [],
   "source": [
    "%load_ext autoreload\n",
    "%autoreload 2"
   ]
  },
  {
   "cell_type": "code",
   "execution_count": 2,
   "metadata": {},
   "outputs": [],
   "source": [
    "import json\n",
    "import pandas as pd\n",
    "import numpy as np\n",
    "from urllib import parse\n",
    "import requests\n",
    "from bs4 import BeautifulSoup as bs\n",
    "from utils import Utils\n",
    "\n",
    "ut = Utils()"
   ]
  },
  {
   "cell_type": "code",
   "execution_count": 3,
   "metadata": {},
   "outputs": [],
   "source": [
    "# 여행 카테고리 top10\n",
    "res = requests.get('https://youtube-rank.com/board/bbs/board.php?bo_table=youtube&sca=%EA%B5%AD%EB%82%B4%2F%ED%95%B4%EC%99%B8%2F%EC%97%AC%ED%96%89')\n",
    "soup = bs(res.text, 'html.parser')\n",
    "\n",
    "channel_list = soup.select('table .subject h1 a')[0:10]\n",
    "\n",
    "channel_list = [x.text.strip() for x in channel_list]"
   ]
  },
  {
   "cell_type": "code",
   "execution_count": 4,
   "metadata": {},
   "outputs": [
    {
     "data": {
      "text/plain": [
       "['빠니보틀 Pani Bottle',\n",
       " '곽튜브',\n",
       " 'Rirang OnAir',\n",
       " '코이티비 KOITV',\n",
       " 'EBS 컬렉션 - 라이프스타일',\n",
       " 'Sophie Kim _하은',\n",
       " '진정부부',\n",
       " '끼룩푸드 seagull food',\n",
       " '원지의하루',\n",
       " '브레이너 제이의 숙면 여행']"
      ]
     },
     "execution_count": 4,
     "metadata": {},
     "output_type": "execute_result"
    }
   ],
   "source": [
    "channel_list"
   ]
  },
  {
   "cell_type": "code",
   "execution_count": 5,
   "metadata": {
    "scrolled": true
   },
   "outputs": [
    {
     "name": "stdout",
     "output_type": "stream",
     "text": [
      "[190, 167, 131, 115, 94, 89, 86, 83, 78, 68]\n",
      "[42581, 37746, 21038, 99519, 63221, 2969, 36418, 58230, 14472, 13483]\n",
      "[301, 311, 270, 1882, 3700, 129, 353, 698, 351, 201]\n",
      "[4904, 1817, 5352, 10887, 5579, 4934, 238, 659, 3147, 3929]\n"
     ]
    }
   ],
   "source": [
    "# 유튜브 채널 정보 리스트로 만들기\n",
    "subs, view, video, search = ut.extractYoutubeStatistics(soup.select('table .subject h3')[0:10])\n",
    "\n",
    "print(subs)\n",
    "print(view)\n",
    "print(video)\n",
    "print(search)"
   ]
  },
  {
   "cell_type": "code",
   "execution_count": 6,
   "metadata": {},
   "outputs": [],
   "source": [
    "youtuber_rank = pd.DataFrame()\n",
    "\n",
    "youtuber_rank['channel_name'] = channel_list\n",
    "youtuber_rank['subscriber (10th)'] = subs\n",
    "youtuber_rank['cum_view (10th)'] = view\n",
    "youtuber_rank['video'] = video\n",
    "youtuber_rank['search'] = search\n",
    "youtuber_rank['category'] = '국내/해외/여행'"
   ]
  },
  {
   "cell_type": "code",
   "execution_count": 7,
   "metadata": {},
   "outputs": [],
   "source": [
    "youtuber_rank.to_csv('./data/youtuber_rank_top10.csv', encoding='utf-8-sig', index=False)"
   ]
  },
  {
   "cell_type": "code",
   "execution_count": null,
   "metadata": {},
   "outputs": [],
   "source": []
  },
  {
   "cell_type": "code",
   "execution_count": 8,
   "metadata": {},
   "outputs": [
    {
     "data": {
      "text/plain": [
       "['백종원 PAIK JONG WON', 593, 98763, 560, 0, '음식/요리/레시피']"
      ]
     },
     "execution_count": 8,
     "metadata": {},
     "output_type": "execute_result"
    }
   ],
   "source": [
    "# 유튜브 채널 정보 리스트로 만들기 (채널 직접 검색 시)\n",
    "res = requests.get('https://youtube-rank.com/board/bbs/search.php?sfl=wr_subject%7C%7Cwr_content%7C%7Cdescription&stx=%EB%B0%B1%EC%A2%85%EC%9B%90')\n",
    "soup = bs(res.text, 'html.parser')\n",
    "\n",
    "channel_name, subs, view, video, category = ut.extractYoutubeStatistics2(soup)\n",
    "\n",
    "baek = [channel_name, subs, view, video, 0, category]\n",
    "baek"
   ]
  },
  {
   "cell_type": "code",
   "execution_count": 9,
   "metadata": {},
   "outputs": [
    {
     "data": {
      "text/plain": [
       "['토모토모TomoTomo', 103, 23200, 206, 0, '미분류']"
      ]
     },
     "execution_count": 9,
     "metadata": {},
     "output_type": "execute_result"
    }
   ],
   "source": [
    "res = requests.get('https://youtube-rank.com/board/bbs/search.php?sfl=wr_subject%7C%7Cwr_content%7C%7Cdescription&stx=%ED%86%A0%EB%AA%A8%ED%86%A0%EB%AA%A8')\n",
    "soup = bs(res.text, 'html.parser')\n",
    "\n",
    "channel_name, subs, view, video, category = ut.extractYoutubeStatistics2(soup)\n",
    "\n",
    "tomotomo = [channel_name, subs, view, video, 0, category]\n",
    "tomotomo"
   ]
  },
  {
   "cell_type": "code",
   "execution_count": 10,
   "metadata": {},
   "outputs": [
    {
     "data": {
      "text/plain": [
       "['여행가 제이 [Jay world traveler]', 60, 14500, 380, 0, '국내/해외/여행']"
      ]
     },
     "execution_count": 10,
     "metadata": {},
     "output_type": "execute_result"
    }
   ],
   "source": [
    "res = requests.get('https://youtube-rank.com/board/bbs/search.php?srows=10&gr_id=&sfl=wr_subject%7C%7Cwr_content%7C%7Cdescription%7C%7Cwr_link1&stx=%EC%97%AC%ED%96%89%EA%B0%80+%EC%A0%9C%EC%9D%B4&sop=and')\n",
    "soup = bs(res.text, 'html.parser')\n",
    "\n",
    "channel_name, subs, view, video, category = ut.extractYoutubeStatistics2(soup)\n",
    "\n",
    "jay = [channel_name, subs, view, video, 0, category]\n",
    "jay"
   ]
  },
  {
   "cell_type": "code",
   "execution_count": null,
   "metadata": {},
   "outputs": [],
   "source": []
  },
  {
   "cell_type": "code",
   "execution_count": 11,
   "metadata": {},
   "outputs": [
    {
     "name": "stderr",
     "output_type": "stream",
     "text": [
      "C:\\Users\\TT21\\AppData\\Local\\Temp\\ipykernel_9408\\2991888735.py:4: FutureWarning: The frame.append method is deprecated and will be removed from pandas in a future version. Use pandas.concat instead.\n",
      "  used_youtuber = youtuber_rank.append(additional, ignore_index=True)\n"
     ]
    }
   ],
   "source": [
    "additional = pd.DataFrame([baek, tomotomo, jay], \n",
    "             columns = ['channel_name', 'subscriber (10th)', 'cum_view (10th)', 'video', 'search', 'category'])\n",
    "\n",
    "used_youtuber = youtuber_rank.append(additional, ignore_index=True)"
   ]
  },
  {
   "cell_type": "code",
   "execution_count": 12,
   "metadata": {},
   "outputs": [
    {
     "data": {
      "text/html": [
       "<div>\n",
       "<style scoped>\n",
       "    .dataframe tbody tr th:only-of-type {\n",
       "        vertical-align: middle;\n",
       "    }\n",
       "\n",
       "    .dataframe tbody tr th {\n",
       "        vertical-align: top;\n",
       "    }\n",
       "\n",
       "    .dataframe thead th {\n",
       "        text-align: right;\n",
       "    }\n",
       "</style>\n",
       "<table border=\"1\" class=\"dataframe\">\n",
       "  <thead>\n",
       "    <tr style=\"text-align: right;\">\n",
       "      <th></th>\n",
       "      <th>channel_name</th>\n",
       "      <th>subscriber (10th)</th>\n",
       "      <th>cum_view (10th)</th>\n",
       "      <th>video</th>\n",
       "      <th>search</th>\n",
       "      <th>category</th>\n",
       "    </tr>\n",
       "  </thead>\n",
       "  <tbody>\n",
       "    <tr>\n",
       "      <th>0</th>\n",
       "      <td>빠니보틀 Pani Bottle</td>\n",
       "      <td>190</td>\n",
       "      <td>42581</td>\n",
       "      <td>301</td>\n",
       "      <td>4904</td>\n",
       "      <td>국내/해외/여행</td>\n",
       "    </tr>\n",
       "    <tr>\n",
       "      <th>1</th>\n",
       "      <td>곽튜브</td>\n",
       "      <td>167</td>\n",
       "      <td>37746</td>\n",
       "      <td>311</td>\n",
       "      <td>1817</td>\n",
       "      <td>국내/해외/여행</td>\n",
       "    </tr>\n",
       "    <tr>\n",
       "      <th>2</th>\n",
       "      <td>Rirang OnAir</td>\n",
       "      <td>131</td>\n",
       "      <td>21038</td>\n",
       "      <td>270</td>\n",
       "      <td>5352</td>\n",
       "      <td>국내/해외/여행</td>\n",
       "    </tr>\n",
       "    <tr>\n",
       "      <th>3</th>\n",
       "      <td>코이티비 KOITV</td>\n",
       "      <td>115</td>\n",
       "      <td>99519</td>\n",
       "      <td>1882</td>\n",
       "      <td>10887</td>\n",
       "      <td>국내/해외/여행</td>\n",
       "    </tr>\n",
       "    <tr>\n",
       "      <th>4</th>\n",
       "      <td>EBS 컬렉션 - 라이프스타일</td>\n",
       "      <td>94</td>\n",
       "      <td>63221</td>\n",
       "      <td>3700</td>\n",
       "      <td>5579</td>\n",
       "      <td>국내/해외/여행</td>\n",
       "    </tr>\n",
       "    <tr>\n",
       "      <th>5</th>\n",
       "      <td>Sophie Kim _하은</td>\n",
       "      <td>89</td>\n",
       "      <td>2969</td>\n",
       "      <td>129</td>\n",
       "      <td>4934</td>\n",
       "      <td>국내/해외/여행</td>\n",
       "    </tr>\n",
       "    <tr>\n",
       "      <th>6</th>\n",
       "      <td>진정부부</td>\n",
       "      <td>86</td>\n",
       "      <td>36418</td>\n",
       "      <td>353</td>\n",
       "      <td>238</td>\n",
       "      <td>국내/해외/여행</td>\n",
       "    </tr>\n",
       "    <tr>\n",
       "      <th>7</th>\n",
       "      <td>끼룩푸드 seagull food</td>\n",
       "      <td>83</td>\n",
       "      <td>58230</td>\n",
       "      <td>698</td>\n",
       "      <td>659</td>\n",
       "      <td>국내/해외/여행</td>\n",
       "    </tr>\n",
       "    <tr>\n",
       "      <th>8</th>\n",
       "      <td>원지의하루</td>\n",
       "      <td>78</td>\n",
       "      <td>14472</td>\n",
       "      <td>351</td>\n",
       "      <td>3147</td>\n",
       "      <td>국내/해외/여행</td>\n",
       "    </tr>\n",
       "    <tr>\n",
       "      <th>9</th>\n",
       "      <td>브레이너 제이의 숙면 여행</td>\n",
       "      <td>68</td>\n",
       "      <td>13483</td>\n",
       "      <td>201</td>\n",
       "      <td>3929</td>\n",
       "      <td>국내/해외/여행</td>\n",
       "    </tr>\n",
       "    <tr>\n",
       "      <th>10</th>\n",
       "      <td>백종원 PAIK JONG WON</td>\n",
       "      <td>593</td>\n",
       "      <td>98763</td>\n",
       "      <td>560</td>\n",
       "      <td>0</td>\n",
       "      <td>음식/요리/레시피</td>\n",
       "    </tr>\n",
       "    <tr>\n",
       "      <th>11</th>\n",
       "      <td>토모토모TomoTomo</td>\n",
       "      <td>103</td>\n",
       "      <td>23200</td>\n",
       "      <td>206</td>\n",
       "      <td>0</td>\n",
       "      <td>미분류</td>\n",
       "    </tr>\n",
       "    <tr>\n",
       "      <th>12</th>\n",
       "      <td>여행가 제이 [Jay world traveler]</td>\n",
       "      <td>60</td>\n",
       "      <td>14500</td>\n",
       "      <td>380</td>\n",
       "      <td>0</td>\n",
       "      <td>국내/해외/여행</td>\n",
       "    </tr>\n",
       "  </tbody>\n",
       "</table>\n",
       "</div>"
      ],
      "text/plain": [
       "                   channel_name  subscriber (10th)  cum_view (10th)  video  \\\n",
       "0              빠니보틀 Pani Bottle                190            42581    301   \n",
       "1                           곽튜브                167            37746    311   \n",
       "2                  Rirang OnAir                131            21038    270   \n",
       "3                    코이티비 KOITV                115            99519   1882   \n",
       "4              EBS 컬렉션 - 라이프스타일                 94            63221   3700   \n",
       "5                Sophie Kim _하은                 89             2969    129   \n",
       "6                          진정부부                 86            36418    353   \n",
       "7             끼룩푸드 seagull food                 83            58230    698   \n",
       "8                         원지의하루                 78            14472    351   \n",
       "9                브레이너 제이의 숙면 여행                 68            13483    201   \n",
       "10            백종원 PAIK JONG WON                593            98763    560   \n",
       "11                 토모토모TomoTomo                103            23200    206   \n",
       "12  여행가 제이 [Jay world traveler]                 60            14500    380   \n",
       "\n",
       "    search   category  \n",
       "0     4904   국내/해외/여행  \n",
       "1     1817   국내/해외/여행  \n",
       "2     5352   국내/해외/여행  \n",
       "3    10887   국내/해외/여행  \n",
       "4     5579   국내/해외/여행  \n",
       "5     4934   국내/해외/여행  \n",
       "6      238   국내/해외/여행  \n",
       "7      659   국내/해외/여행  \n",
       "8     3147   국내/해외/여행  \n",
       "9     3929   국내/해외/여행  \n",
       "10       0  음식/요리/레시피  \n",
       "11       0        미분류  \n",
       "12       0   국내/해외/여행  "
      ]
     },
     "execution_count": 12,
     "metadata": {},
     "output_type": "execute_result"
    }
   ],
   "source": [
    "used_youtuber"
   ]
  },
  {
   "cell_type": "code",
   "execution_count": 13,
   "metadata": {},
   "outputs": [],
   "source": [
    "used_youtuber = used_youtuber.drop([2, 4, 5, 6, 7, 8, 9])"
   ]
  },
  {
   "cell_type": "code",
   "execution_count": 14,
   "metadata": {},
   "outputs": [],
   "source": [
    "used_youtuber = used_youtuber.sort_values('subscriber (10th)', ascending=False)"
   ]
  },
  {
   "cell_type": "code",
   "execution_count": 15,
   "metadata": {},
   "outputs": [
    {
     "data": {
      "text/html": [
       "<div>\n",
       "<style scoped>\n",
       "    .dataframe tbody tr th:only-of-type {\n",
       "        vertical-align: middle;\n",
       "    }\n",
       "\n",
       "    .dataframe tbody tr th {\n",
       "        vertical-align: top;\n",
       "    }\n",
       "\n",
       "    .dataframe thead th {\n",
       "        text-align: right;\n",
       "    }\n",
       "</style>\n",
       "<table border=\"1\" class=\"dataframe\">\n",
       "  <thead>\n",
       "    <tr style=\"text-align: right;\">\n",
       "      <th></th>\n",
       "      <th>channel_name</th>\n",
       "      <th>subscriber (10th)</th>\n",
       "      <th>cum_view (10th)</th>\n",
       "      <th>video</th>\n",
       "      <th>search</th>\n",
       "      <th>category</th>\n",
       "    </tr>\n",
       "  </thead>\n",
       "  <tbody>\n",
       "    <tr>\n",
       "      <th>10</th>\n",
       "      <td>백종원 PAIK JONG WON</td>\n",
       "      <td>593</td>\n",
       "      <td>98763</td>\n",
       "      <td>560</td>\n",
       "      <td>0</td>\n",
       "      <td>음식/요리/레시피</td>\n",
       "    </tr>\n",
       "    <tr>\n",
       "      <th>0</th>\n",
       "      <td>빠니보틀 Pani Bottle</td>\n",
       "      <td>190</td>\n",
       "      <td>42581</td>\n",
       "      <td>301</td>\n",
       "      <td>4904</td>\n",
       "      <td>국내/해외/여행</td>\n",
       "    </tr>\n",
       "    <tr>\n",
       "      <th>1</th>\n",
       "      <td>곽튜브</td>\n",
       "      <td>167</td>\n",
       "      <td>37746</td>\n",
       "      <td>311</td>\n",
       "      <td>1817</td>\n",
       "      <td>국내/해외/여행</td>\n",
       "    </tr>\n",
       "    <tr>\n",
       "      <th>3</th>\n",
       "      <td>코이티비 KOITV</td>\n",
       "      <td>115</td>\n",
       "      <td>99519</td>\n",
       "      <td>1882</td>\n",
       "      <td>10887</td>\n",
       "      <td>국내/해외/여행</td>\n",
       "    </tr>\n",
       "    <tr>\n",
       "      <th>11</th>\n",
       "      <td>토모토모TomoTomo</td>\n",
       "      <td>103</td>\n",
       "      <td>23200</td>\n",
       "      <td>206</td>\n",
       "      <td>0</td>\n",
       "      <td>미분류</td>\n",
       "    </tr>\n",
       "    <tr>\n",
       "      <th>12</th>\n",
       "      <td>여행가 제이 [Jay world traveler]</td>\n",
       "      <td>60</td>\n",
       "      <td>14500</td>\n",
       "      <td>380</td>\n",
       "      <td>0</td>\n",
       "      <td>국내/해외/여행</td>\n",
       "    </tr>\n",
       "  </tbody>\n",
       "</table>\n",
       "</div>"
      ],
      "text/plain": [
       "                   channel_name  subscriber (10th)  cum_view (10th)  video  \\\n",
       "10            백종원 PAIK JONG WON                593            98763    560   \n",
       "0              빠니보틀 Pani Bottle                190            42581    301   \n",
       "1                           곽튜브                167            37746    311   \n",
       "3                    코이티비 KOITV                115            99519   1882   \n",
       "11                 토모토모TomoTomo                103            23200    206   \n",
       "12  여행가 제이 [Jay world traveler]                 60            14500    380   \n",
       "\n",
       "    search   category  \n",
       "10       0  음식/요리/레시피  \n",
       "0     4904   국내/해외/여행  \n",
       "1     1817   국내/해외/여행  \n",
       "3    10887   국내/해외/여행  \n",
       "11       0        미분류  \n",
       "12       0   국내/해외/여행  "
      ]
     },
     "execution_count": 15,
     "metadata": {},
     "output_type": "execute_result"
    }
   ],
   "source": [
    "used_youtuber"
   ]
  },
  {
   "cell_type": "code",
   "execution_count": 16,
   "metadata": {},
   "outputs": [],
   "source": [
    "used_youtuber.to_csv('./data/used_youtuber.csv', encoding='utf-8-sig', index=False)"
   ]
  },
  {
   "cell_type": "code",
   "execution_count": null,
   "metadata": {},
   "outputs": [],
   "source": []
  }
 ],
 "metadata": {
  "kernelspec": {
   "display_name": "Python 3 (ipykernel)",
   "language": "python",
   "name": "python3"
  },
  "language_info": {
   "codemirror_mode": {
    "name": "ipython",
    "version": 3
   },
   "file_extension": ".py",
   "mimetype": "text/x-python",
   "name": "python",
   "nbconvert_exporter": "python",
   "pygments_lexer": "ipython3",
   "version": "3.11.3"
  }
 },
 "nbformat": 4,
 "nbformat_minor": 2
}
