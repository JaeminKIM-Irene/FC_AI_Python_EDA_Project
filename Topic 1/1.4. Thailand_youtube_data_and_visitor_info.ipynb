{
 "cells": [
  {
   "cell_type": "code",
   "execution_count": 1,
   "metadata": {},
   "outputs": [],
   "source": [
    "%load_ext autoreload\n",
    "%autoreload 2"
   ]
  },
  {
   "cell_type": "code",
   "execution_count": 2,
   "metadata": {
    "scrolled": false
   },
   "outputs": [],
   "source": [
    "import json\n",
    "import pandas as pd\n",
    "import numpy as np\n",
    "from urllib import parse\n",
    "import requests\n",
    "from youtubeApi import YoutubeApi\n",
    "from utils import Utils\n",
    "\n",
    "email = 'kjmkjk097@gmail.com'\n",
    "yt = YoutubeApi()\n",
    "ut = Utils()"
   ]
  },
  {
   "cell_type": "code",
   "execution_count": 3,
   "metadata": {},
   "outputs": [
    {
     "data": {
      "text/plain": [
       "{'kind': 'youtube#searchListResponse',\n",
       " 'etag': 'K9uoHvrzjrlu2mWqnY1IaIZP98U',\n",
       " 'nextPageToken': 'CAEQAA',\n",
       " 'regionCode': 'KR',\n",
       " 'pageInfo': {'totalResults': 56086, 'resultsPerPage': 1},\n",
       " 'items': [{'kind': 'youtube#searchResult',\n",
       "   'etag': 'ifQJBcFqsUJlUemjEPX-Kph2PL8',\n",
       "   'id': {'kind': 'youtube#video', 'videoId': 'F2utz6L76D0'},\n",
       "   'snippet': {'publishedAt': '2022-10-11T03:00:08Z',\n",
       "    'channelId': 'UCNhofiqfw5nl-NeDJkXtPvw',\n",
       "    'title': '방콕 풀코스, 동남아 안 가본 곽튜브와 함께 【쇼트트립】',\n",
       "    'description': '2박~ 3일! 15:30 좁밥트립 시작 -------------------------------------- 카메라 Gopro10 Galaxy S21 -------------------------------------- 배경음악 ...',\n",
       "    'thumbnails': {'default': {'url': 'https://i.ytimg.com/vi/F2utz6L76D0/default.jpg',\n",
       "      'width': 120,\n",
       "      'height': 90},\n",
       "     'medium': {'url': 'https://i.ytimg.com/vi/F2utz6L76D0/mqdefault.jpg',\n",
       "      'width': 320,\n",
       "      'height': 180},\n",
       "     'high': {'url': 'https://i.ytimg.com/vi/F2utz6L76D0/hqdefault.jpg',\n",
       "      'width': 480,\n",
       "      'height': 360}},\n",
       "    'channelTitle': '빠니보틀 Pani Bottle',\n",
       "    'liveBroadcastContent': 'none',\n",
       "    'publishTime': '2022-10-11T03:00:08Z'}}]}"
      ]
     },
     "execution_count": 3,
     "metadata": {},
     "output_type": "execute_result"
    }
   ],
   "source": [
    "# search query\n",
    "searchQuery = '빠니보틀 태국'\n",
    "data = yt.getDictBySearchQuery(searchQuery, 1)\n",
    "data"
   ]
  },
  {
   "cell_type": "code",
   "execution_count": 4,
   "metadata": {},
   "outputs": [
    {
     "data": {
      "text/plain": [
       "{'viewCount': '4311750',\n",
       " 'likeCount': '47081',\n",
       " 'favoriteCount': '0',\n",
       " 'commentCount': '3485'}"
      ]
     },
     "execution_count": 4,
     "metadata": {},
     "output_type": "execute_result"
    }
   ],
   "source": [
    "# 채널의 대만 영상 정보 가져오기\n",
    "channelId = data['items'][0]['snippet']['channelId']\n",
    "videoId = data['items'][0]['id']['videoId']\n",
    "\n",
    "data2 = yt.getDictByVideoId(videoId)\n",
    "data2"
   ]
  },
  {
   "cell_type": "code",
   "execution_count": 5,
   "metadata": {},
   "outputs": [],
   "source": [
    "df = ut.make_df(data)\n",
    "df2 = ut.makeDataFromStatistics(data2)"
   ]
  },
  {
   "cell_type": "code",
   "execution_count": 6,
   "metadata": {},
   "outputs": [
    {
     "data": {
      "text/html": [
       "<div>\n",
       "<style scoped>\n",
       "    .dataframe tbody tr th:only-of-type {\n",
       "        vertical-align: middle;\n",
       "    }\n",
       "\n",
       "    .dataframe tbody tr th {\n",
       "        vertical-align: top;\n",
       "    }\n",
       "\n",
       "    .dataframe thead th {\n",
       "        text-align: right;\n",
       "    }\n",
       "</style>\n",
       "<table border=\"1\" class=\"dataframe\">\n",
       "  <thead>\n",
       "    <tr style=\"text-align: right;\">\n",
       "      <th></th>\n",
       "      <th>publishedAt</th>\n",
       "      <th>channelId</th>\n",
       "      <th>title</th>\n",
       "      <th>description</th>\n",
       "      <th>thumbnails</th>\n",
       "      <th>channelTitle</th>\n",
       "      <th>liveBroadcastContent</th>\n",
       "      <th>publishTime</th>\n",
       "      <th>videoId</th>\n",
       "    </tr>\n",
       "  </thead>\n",
       "  <tbody>\n",
       "    <tr>\n",
       "      <th>0</th>\n",
       "      <td>2022-10-11T03:00:08Z</td>\n",
       "      <td>UCNhofiqfw5nl-NeDJkXtPvw</td>\n",
       "      <td>방콕 풀코스, 동남아 안 가본 곽튜브와 함께 【쇼트트립】</td>\n",
       "      <td>2박~ 3일! 15:30 좁밥트립 시작 ------------------------...</td>\n",
       "      <td>{'default': {'url': 'https://i.ytimg.com/vi/F2...</td>\n",
       "      <td>빠니보틀 Pani Bottle</td>\n",
       "      <td>none</td>\n",
       "      <td>2022-10-11T03:00:08Z</td>\n",
       "      <td>F2utz6L76D0</td>\n",
       "    </tr>\n",
       "  </tbody>\n",
       "</table>\n",
       "</div>"
      ],
      "text/plain": [
       "            publishedAt                 channelId  \\\n",
       "0  2022-10-11T03:00:08Z  UCNhofiqfw5nl-NeDJkXtPvw   \n",
       "\n",
       "                             title  \\\n",
       "0  방콕 풀코스, 동남아 안 가본 곽튜브와 함께 【쇼트트립】   \n",
       "\n",
       "                                         description  \\\n",
       "0  2박~ 3일! 15:30 좁밥트립 시작 ------------------------...   \n",
       "\n",
       "                                          thumbnails      channelTitle  \\\n",
       "0  {'default': {'url': 'https://i.ytimg.com/vi/F2...  빠니보틀 Pani Bottle   \n",
       "\n",
       "  liveBroadcastContent           publishTime      videoId  \n",
       "0                 none  2022-10-11T03:00:08Z  F2utz6L76D0  "
      ]
     },
     "execution_count": 6,
     "metadata": {},
     "output_type": "execute_result"
    }
   ],
   "source": [
    "df"
   ]
  },
  {
   "cell_type": "code",
   "execution_count": 7,
   "metadata": {},
   "outputs": [
    {
     "data": {
      "text/html": [
       "<div>\n",
       "<style scoped>\n",
       "    .dataframe tbody tr th:only-of-type {\n",
       "        vertical-align: middle;\n",
       "    }\n",
       "\n",
       "    .dataframe tbody tr th {\n",
       "        vertical-align: top;\n",
       "    }\n",
       "\n",
       "    .dataframe thead th {\n",
       "        text-align: right;\n",
       "    }\n",
       "</style>\n",
       "<table border=\"1\" class=\"dataframe\">\n",
       "  <thead>\n",
       "    <tr style=\"text-align: right;\">\n",
       "      <th></th>\n",
       "      <th>viewCount</th>\n",
       "      <th>likeCount</th>\n",
       "      <th>favoriteCount</th>\n",
       "      <th>commentCount</th>\n",
       "    </tr>\n",
       "  </thead>\n",
       "  <tbody>\n",
       "    <tr>\n",
       "      <th>0</th>\n",
       "      <td>4311750</td>\n",
       "      <td>47081</td>\n",
       "      <td>0</td>\n",
       "      <td>3485</td>\n",
       "    </tr>\n",
       "  </tbody>\n",
       "</table>\n",
       "</div>"
      ],
      "text/plain": [
       "  viewCount likeCount favoriteCount commentCount\n",
       "0   4311750     47081             0         3485"
      ]
     },
     "execution_count": 7,
     "metadata": {},
     "output_type": "execute_result"
    }
   ],
   "source": [
    "df2"
   ]
  },
  {
   "cell_type": "code",
   "execution_count": 8,
   "metadata": {},
   "outputs": [],
   "source": [
    "final_data = pd.concat([df, df2], axis=1)"
   ]
  },
  {
   "cell_type": "code",
   "execution_count": 9,
   "metadata": {},
   "outputs": [],
   "source": [
    "final_data['country'] = '태국'"
   ]
  },
  {
   "cell_type": "code",
   "execution_count": 10,
   "metadata": {},
   "outputs": [],
   "source": [
    "# column 드롭, 추가 및 재 정렬\n",
    "# 답변 오는거 보고 추가 드롭, 추가, 그리고 순서대로 재정렬 해야함\n",
    "# 그리고 class method로 만들기\n",
    "final_data = ut.dropAndReorganizeColumns(final_data)"
   ]
  },
  {
   "cell_type": "code",
   "execution_count": 11,
   "metadata": {},
   "outputs": [
    {
     "data": {
      "text/html": [
       "<div>\n",
       "<style scoped>\n",
       "    .dataframe tbody tr th:only-of-type {\n",
       "        vertical-align: middle;\n",
       "    }\n",
       "\n",
       "    .dataframe tbody tr th {\n",
       "        vertical-align: top;\n",
       "    }\n",
       "\n",
       "    .dataframe thead th {\n",
       "        text-align: right;\n",
       "    }\n",
       "</style>\n",
       "<table border=\"1\" class=\"dataframe\">\n",
       "  <thead>\n",
       "    <tr style=\"text-align: right;\">\n",
       "      <th></th>\n",
       "      <th>videoId</th>\n",
       "      <th>title</th>\n",
       "      <th>description</th>\n",
       "      <th>viewCount</th>\n",
       "      <th>likeCount</th>\n",
       "      <th>favoriteCount</th>\n",
       "      <th>commentCount</th>\n",
       "      <th>publishedAt</th>\n",
       "      <th>channelId</th>\n",
       "      <th>channelTitle</th>\n",
       "      <th>country</th>\n",
       "    </tr>\n",
       "  </thead>\n",
       "  <tbody>\n",
       "    <tr>\n",
       "      <th>0</th>\n",
       "      <td>F2utz6L76D0</td>\n",
       "      <td>방콕 풀코스, 동남아 안 가본 곽튜브와 함께 【쇼트트립】</td>\n",
       "      <td>2박~ 3일! 15:30 좁밥트립 시작 ------------------------...</td>\n",
       "      <td>4311750</td>\n",
       "      <td>47081</td>\n",
       "      <td>0</td>\n",
       "      <td>3485</td>\n",
       "      <td>2022-10-11T03:00:08Z</td>\n",
       "      <td>UCNhofiqfw5nl-NeDJkXtPvw</td>\n",
       "      <td>빠니보틀 Pani Bottle</td>\n",
       "      <td>태국</td>\n",
       "    </tr>\n",
       "  </tbody>\n",
       "</table>\n",
       "</div>"
      ],
      "text/plain": [
       "       videoId                            title  \\\n",
       "0  F2utz6L76D0  방콕 풀코스, 동남아 안 가본 곽튜브와 함께 【쇼트트립】   \n",
       "\n",
       "                                         description viewCount likeCount  \\\n",
       "0  2박~ 3일! 15:30 좁밥트립 시작 ------------------------...   4311750     47081   \n",
       "\n",
       "  favoriteCount commentCount           publishedAt                 channelId  \\\n",
       "0             0         3485  2022-10-11T03:00:08Z  UCNhofiqfw5nl-NeDJkXtPvw   \n",
       "\n",
       "       channelTitle country  \n",
       "0  빠니보틀 Pani Bottle      태국  "
      ]
     },
     "execution_count": 11,
     "metadata": {},
     "output_type": "execute_result"
    }
   ],
   "source": [
    "final_data"
   ]
  },
  {
   "cell_type": "code",
   "execution_count": 12,
   "metadata": {},
   "outputs": [],
   "source": [
    "# 최종 데이터 프레임 csv에 저장\n",
    "final_data.to_csv('./data/thailand_youtube.csv', encoding='utf-8-sig', index=False)"
   ]
  }
 ],
 "metadata": {
  "kernelspec": {
   "display_name": "Python 3 (ipykernel)",
   "language": "python",
   "name": "python3"
  },
  "language_info": {
   "codemirror_mode": {
    "name": "ipython",
    "version": 3
   },
   "file_extension": ".py",
   "mimetype": "text/x-python",
   "name": "python",
   "nbconvert_exporter": "python",
   "pygments_lexer": "ipython3",
   "version": "3.11.3"
  }
 },
 "nbformat": 4,
 "nbformat_minor": 2
}
