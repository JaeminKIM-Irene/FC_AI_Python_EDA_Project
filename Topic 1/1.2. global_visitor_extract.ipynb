{
 "cells": [
  {
   "cell_type": "code",
   "execution_count": 1,
   "id": "2c6f722e",
   "metadata": {},
   "outputs": [],
   "source": [
    "%load_ext autoreload\n",
    "%autoreload 2"
   ]
  },
  {
   "cell_type": "code",
   "execution_count": 2,
   "id": "3d519287",
   "metadata": {},
   "outputs": [],
   "source": [
    "import requests\n",
    "import json\n",
    "import numpy as np\n",
    "import pandas as pd\n",
    "import matplotlib.pyplot as plt\n",
    "import seaborn as sns\n",
    "from utils import Utils\n",
    "\n",
    "ut = Utils()"
   ]
  },
  {
   "cell_type": "code",
   "execution_count": 3,
   "id": "ab738bb2",
   "metadata": {},
   "outputs": [],
   "source": [
    "asia_data = pd.read_csv('../data/visitor_kor/asia_data_kor.csv')\n",
    "europe_data = pd.read_csv('../data/visitor_kor/europe_data_kor.csv')\n",
    "africa_data = pd.read_csv('../data/visitor_kor/africa_data_kor.csv')\n",
    "america_data = pd.read_csv('../data/visitor_kor/america_data_kor.csv')\n",
    "oceania_data = pd.read_csv('../data/visitor_kor/oceania_data_kor.csv')"
   ]
  },
  {
   "cell_type": "code",
   "execution_count": 4,
   "id": "73bac3a2",
   "metadata": {},
   "outputs": [
    {
     "data": {
      "text/plain": [
       "일본_명수        36087499\n",
       "중국_명수        29750589\n",
       "베트남_명수       16061089\n",
       "미국_명수        15450042\n",
       "태국_명수        11465554\n",
       "               ...   \n",
       "리히텐슈타인_명수         978\n",
       "시에라리온_명수          791\n",
       "예멘_명수             356\n",
       "사이프러스_명수          282\n",
       "산마리노_명수            11\n",
       "Length: 65, dtype: int64"
      ]
     },
     "execution_count": 4,
     "metadata": {},
     "output_type": "execute_result"
    }
   ],
   "source": [
    "# 10년치 각 나라의 누적수 모아서 내림차순으로 정리\n",
    "total_asia = ut.get_cum_data(asia_data)\n",
    "total_europe = ut.get_cum_data(europe_data)\n",
    "total_africa = ut.get_cum_data(africa_data)\n",
    "total_america = ut.get_cum_data(america_data)\n",
    "total_oceania = ut.get_cum_data(oceania_data)\n",
    "\n",
    "total_overall = pd.concat([total_asia, total_europe, total_africa, total_america, total_oceania])\n",
    "total_overall = total_overall.sort_values(ascending=False)\n",
    "total_overall"
   ]
  },
  {
   "cell_type": "code",
   "execution_count": 5,
   "id": "0e355e46",
   "metadata": {},
   "outputs": [],
   "source": [
    "quarterVal = round(len(total_overall) / 4)\n",
    "top25 = total_overall[:quarterVal]\n",
    "low25 = total_overall[-(quarterVal+1):-1]\n",
    "\n",
    "top25.to_csv('./data/top25.csv', encoding='utf-8-sig')\n",
    "low25.to_csv('./data/low25.csv', encoding='utf-8-sig')"
   ]
  }
 ],
 "metadata": {
  "kernelspec": {
   "display_name": "Python 3 (ipykernel)",
   "language": "python",
   "name": "python3"
  },
  "language_info": {
   "codemirror_mode": {
    "name": "ipython",
    "version": 3
   },
   "file_extension": ".py",
   "mimetype": "text/x-python",
   "name": "python",
   "nbconvert_exporter": "python",
   "pygments_lexer": "ipython3",
   "version": "3.11.3"
  }
 },
 "nbformat": 4,
 "nbformat_minor": 5
}
