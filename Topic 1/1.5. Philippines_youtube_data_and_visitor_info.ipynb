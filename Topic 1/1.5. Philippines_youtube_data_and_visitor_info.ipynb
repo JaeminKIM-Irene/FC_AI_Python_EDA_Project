{
 "cells": [
  {
   "cell_type": "code",
   "execution_count": 17,
   "metadata": {},
   "outputs": [
    {
     "name": "stdout",
     "output_type": "stream",
     "text": [
      "The autoreload extension is already loaded. To reload it, use:\n",
      "  %reload_ext autoreload\n"
     ]
    }
   ],
   "source": [
    "%load_ext autoreload\n",
    "%autoreload 2"
   ]
  },
  {
   "cell_type": "code",
   "execution_count": 51,
   "metadata": {},
   "outputs": [],
   "source": [
    "import json\n",
    "import pandas as pd\n",
    "import numpy as np\n",
    "from urllib import parse\n",
    "import requests\n",
    "from youtubeApi import YoutubeApi\n",
    "from utils import Utils\n",
    "\n",
    "email = 'kjmkjk097@gmail.com'\n",
    "yt = YoutubeApi()\n",
    "ut = Utils()"
   ]
  },
  {
   "cell_type": "code",
   "execution_count": 52,
   "metadata": {},
   "outputs": [
    {
     "data": {
      "text/plain": [
       "{'kind': 'youtube#searchListResponse',\n",
       " 'etag': 'DB-saVEW_I9wOLmIezdCkjaIVEo',\n",
       " 'nextPageToken': 'CAEQAA',\n",
       " 'regionCode': 'KR',\n",
       " 'pageInfo': {'totalResults': 182151, 'resultsPerPage': 1},\n",
       " 'items': [{'kind': 'youtube#searchResult',\n",
       "   'etag': 'ZOfmjxNm7idq_S5ffs6BzD17TUk',\n",
       "   'id': {'kind': 'youtube#video', 'videoId': 'wYExhs15iRo'},\n",
       "   'snippet': {'publishedAt': '2022-05-07T09:23:21Z',\n",
       "    'channelId': 'UCxU8QX7IRRIW0VLuoWWoxbw',\n",
       "    'title': '필리핀 입국과 동시에 황홀한 현지인 반응 - 필리핀1',\n",
       "    'description': '필리핀 잘 도착했습니다. 필리핀 사람들 너무 친절하고 좋네요ㅎ 카메라 : GoPro 8 편집 프로그램 : Final Cut Pro 이메일 ...',\n",
       "    'thumbnails': {'default': {'url': 'https://i.ytimg.com/vi/wYExhs15iRo/default.jpg',\n",
       "      'width': 120,\n",
       "      'height': 90},\n",
       "     'medium': {'url': 'https://i.ytimg.com/vi/wYExhs15iRo/mqdefault.jpg',\n",
       "      'width': 320,\n",
       "      'height': 180},\n",
       "     'high': {'url': 'https://i.ytimg.com/vi/wYExhs15iRo/hqdefault.jpg',\n",
       "      'width': 480,\n",
       "      'height': 360}},\n",
       "    'channelTitle': '여행가 제이 [Jay world traveler]',\n",
       "    'liveBroadcastContent': 'none',\n",
       "    'publishTime': '2022-05-07T09:23:21Z'}}]}"
      ]
     },
     "execution_count": 52,
     "metadata": {},
     "output_type": "execute_result"
    }
   ],
   "source": [
    "# search query\n",
    "searchQuery = '여행가 제이 필리핀'\n",
    "data = yt.getDictBySearchQuery(searchQuery, 1)\n",
    "data"
   ]
  },
  {
   "cell_type": "code",
   "execution_count": 53,
   "metadata": {},
   "outputs": [
    {
     "data": {
      "text/plain": [
       "{'viewCount': '628889',\n",
       " 'likeCount': '14525',\n",
       " 'favoriteCount': '0',\n",
       " 'commentCount': '1004'}"
      ]
     },
     "execution_count": 53,
     "metadata": {},
     "output_type": "execute_result"
    }
   ],
   "source": [
    "# 채널의 대만 영상 정보 가져오기\n",
    "channelId = data['items'][0]['snippet']['channelId']\n",
    "videoId = data['items'][0]['id']['videoId']\n",
    "\n",
    "data2 = yt.getDictByVideoId(videoId)\n",
    "data2"
   ]
  },
  {
   "cell_type": "code",
   "execution_count": 54,
   "metadata": {},
   "outputs": [],
   "source": [
    "df = ut.make_df(data)\n",
    "df2 = ut.makeDataFromStatistics(data2)"
   ]
  },
  {
   "cell_type": "code",
   "execution_count": 55,
   "metadata": {},
   "outputs": [
    {
     "data": {
      "text/html": [
       "<div>\n",
       "<style scoped>\n",
       "    .dataframe tbody tr th:only-of-type {\n",
       "        vertical-align: middle;\n",
       "    }\n",
       "\n",
       "    .dataframe tbody tr th {\n",
       "        vertical-align: top;\n",
       "    }\n",
       "\n",
       "    .dataframe thead th {\n",
       "        text-align: right;\n",
       "    }\n",
       "</style>\n",
       "<table border=\"1\" class=\"dataframe\">\n",
       "  <thead>\n",
       "    <tr style=\"text-align: right;\">\n",
       "      <th></th>\n",
       "      <th>publishedAt</th>\n",
       "      <th>channelId</th>\n",
       "      <th>title</th>\n",
       "      <th>description</th>\n",
       "      <th>thumbnails</th>\n",
       "      <th>channelTitle</th>\n",
       "      <th>liveBroadcastContent</th>\n",
       "      <th>publishTime</th>\n",
       "      <th>videoId</th>\n",
       "    </tr>\n",
       "  </thead>\n",
       "  <tbody>\n",
       "    <tr>\n",
       "      <th>0</th>\n",
       "      <td>2022-05-07T09:23:21Z</td>\n",
       "      <td>UCxU8QX7IRRIW0VLuoWWoxbw</td>\n",
       "      <td>필리핀 입국과 동시에 황홀한 현지인 반응 - 필리핀1</td>\n",
       "      <td>필리핀 잘 도착했습니다. 필리핀 사람들 너무 친절하고 좋네요ㅎ 카메라 : GoPro...</td>\n",
       "      <td>{'default': {'url': 'https://i.ytimg.com/vi/wY...</td>\n",
       "      <td>여행가 제이 [Jay world traveler]</td>\n",
       "      <td>none</td>\n",
       "      <td>2022-05-07T09:23:21Z</td>\n",
       "      <td>wYExhs15iRo</td>\n",
       "    </tr>\n",
       "  </tbody>\n",
       "</table>\n",
       "</div>"
      ],
      "text/plain": [
       "            publishedAt                 channelId  \\\n",
       "0  2022-05-07T09:23:21Z  UCxU8QX7IRRIW0VLuoWWoxbw   \n",
       "\n",
       "                           title  \\\n",
       "0  필리핀 입국과 동시에 황홀한 현지인 반응 - 필리핀1   \n",
       "\n",
       "                                         description  \\\n",
       "0  필리핀 잘 도착했습니다. 필리핀 사람들 너무 친절하고 좋네요ㅎ 카메라 : GoPro...   \n",
       "\n",
       "                                          thumbnails  \\\n",
       "0  {'default': {'url': 'https://i.ytimg.com/vi/wY...   \n",
       "\n",
       "                  channelTitle liveBroadcastContent           publishTime  \\\n",
       "0  여행가 제이 [Jay world traveler]                 none  2022-05-07T09:23:21Z   \n",
       "\n",
       "       videoId  \n",
       "0  wYExhs15iRo  "
      ]
     },
     "execution_count": 55,
     "metadata": {},
     "output_type": "execute_result"
    }
   ],
   "source": [
    "df"
   ]
  },
  {
   "cell_type": "code",
   "execution_count": 56,
   "metadata": {},
   "outputs": [
    {
     "data": {
      "text/html": [
       "<div>\n",
       "<style scoped>\n",
       "    .dataframe tbody tr th:only-of-type {\n",
       "        vertical-align: middle;\n",
       "    }\n",
       "\n",
       "    .dataframe tbody tr th {\n",
       "        vertical-align: top;\n",
       "    }\n",
       "\n",
       "    .dataframe thead th {\n",
       "        text-align: right;\n",
       "    }\n",
       "</style>\n",
       "<table border=\"1\" class=\"dataframe\">\n",
       "  <thead>\n",
       "    <tr style=\"text-align: right;\">\n",
       "      <th></th>\n",
       "      <th>viewCount</th>\n",
       "      <th>likeCount</th>\n",
       "      <th>favoriteCount</th>\n",
       "      <th>commentCount</th>\n",
       "    </tr>\n",
       "  </thead>\n",
       "  <tbody>\n",
       "    <tr>\n",
       "      <th>0</th>\n",
       "      <td>628889</td>\n",
       "      <td>14525</td>\n",
       "      <td>0</td>\n",
       "      <td>1004</td>\n",
       "    </tr>\n",
       "  </tbody>\n",
       "</table>\n",
       "</div>"
      ],
      "text/plain": [
       "  viewCount likeCount favoriteCount commentCount\n",
       "0    628889     14525             0         1004"
      ]
     },
     "execution_count": 56,
     "metadata": {},
     "output_type": "execute_result"
    }
   ],
   "source": [
    "df2"
   ]
  },
  {
   "cell_type": "code",
   "execution_count": 57,
   "metadata": {},
   "outputs": [],
   "source": [
    "final_data = pd.concat([df, df2], axis=1)"
   ]
  },
  {
   "cell_type": "code",
   "execution_count": 58,
   "metadata": {},
   "outputs": [],
   "source": [
    "final_data['country'] = '필리핀'"
   ]
  },
  {
   "cell_type": "code",
   "execution_count": 59,
   "metadata": {},
   "outputs": [],
   "source": [
    "# column 드롭 및 재 정렬\n",
    "final_data = ut.dropAndReorganizeColumns(final_data)"
   ]
  },
  {
   "cell_type": "code",
   "execution_count": 60,
   "metadata": {},
   "outputs": [
    {
     "data": {
      "text/html": [
       "<div>\n",
       "<style scoped>\n",
       "    .dataframe tbody tr th:only-of-type {\n",
       "        vertical-align: middle;\n",
       "    }\n",
       "\n",
       "    .dataframe tbody tr th {\n",
       "        vertical-align: top;\n",
       "    }\n",
       "\n",
       "    .dataframe thead th {\n",
       "        text-align: right;\n",
       "    }\n",
       "</style>\n",
       "<table border=\"1\" class=\"dataframe\">\n",
       "  <thead>\n",
       "    <tr style=\"text-align: right;\">\n",
       "      <th></th>\n",
       "      <th>videoId</th>\n",
       "      <th>title</th>\n",
       "      <th>description</th>\n",
       "      <th>viewCount</th>\n",
       "      <th>likeCount</th>\n",
       "      <th>favoriteCount</th>\n",
       "      <th>commentCount</th>\n",
       "      <th>publishedAt</th>\n",
       "      <th>channelId</th>\n",
       "      <th>channelTitle</th>\n",
       "      <th>country</th>\n",
       "    </tr>\n",
       "  </thead>\n",
       "  <tbody>\n",
       "    <tr>\n",
       "      <th>0</th>\n",
       "      <td>wYExhs15iRo</td>\n",
       "      <td>필리핀 입국과 동시에 황홀한 현지인 반응 - 필리핀1</td>\n",
       "      <td>필리핀 잘 도착했습니다. 필리핀 사람들 너무 친절하고 좋네요ㅎ 카메라 : GoPro...</td>\n",
       "      <td>628889</td>\n",
       "      <td>14525</td>\n",
       "      <td>0</td>\n",
       "      <td>1004</td>\n",
       "      <td>2022-05-07T09:23:21Z</td>\n",
       "      <td>UCxU8QX7IRRIW0VLuoWWoxbw</td>\n",
       "      <td>여행가 제이 [Jay world traveler]</td>\n",
       "      <td>필리핀</td>\n",
       "    </tr>\n",
       "  </tbody>\n",
       "</table>\n",
       "</div>"
      ],
      "text/plain": [
       "       videoId                          title  \\\n",
       "0  wYExhs15iRo  필리핀 입국과 동시에 황홀한 현지인 반응 - 필리핀1   \n",
       "\n",
       "                                         description viewCount likeCount  \\\n",
       "0  필리핀 잘 도착했습니다. 필리핀 사람들 너무 친절하고 좋네요ㅎ 카메라 : GoPro...    628889     14525   \n",
       "\n",
       "  favoriteCount commentCount           publishedAt                 channelId  \\\n",
       "0             0         1004  2022-05-07T09:23:21Z  UCxU8QX7IRRIW0VLuoWWoxbw   \n",
       "\n",
       "                  channelTitle country  \n",
       "0  여행가 제이 [Jay world traveler]     필리핀  "
      ]
     },
     "execution_count": 60,
     "metadata": {},
     "output_type": "execute_result"
    }
   ],
   "source": [
    "final_data"
   ]
  },
  {
   "cell_type": "code",
   "execution_count": 61,
   "metadata": {},
   "outputs": [],
   "source": [
    "# 최종 데이터 프레임 csv에 저장\n",
    "final_data.to_csv('./data/philippines_youtube.csv', encoding='utf-8-sig', index=False)"
   ]
  }
 ],
 "metadata": {
  "kernelspec": {
   "display_name": "Python 3 (ipykernel)",
   "language": "python",
   "name": "python3"
  },
  "language_info": {
   "codemirror_mode": {
    "name": "ipython",
    "version": 3
   },
   "file_extension": ".py",
   "mimetype": "text/x-python",
   "name": "python",
   "nbconvert_exporter": "python",
   "pygments_lexer": "ipython3",
   "version": "3.11.3"
  }
 },
 "nbformat": 4,
 "nbformat_minor": 2
}
