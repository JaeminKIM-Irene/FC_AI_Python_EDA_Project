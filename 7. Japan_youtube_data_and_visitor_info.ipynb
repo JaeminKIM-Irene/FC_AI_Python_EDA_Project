{
 "cells": [
  {
   "cell_type": "code",
   "execution_count": 17,
   "metadata": {},
   "outputs": [
    {
     "name": "stdout",
     "output_type": "stream",
     "text": [
      "The autoreload extension is already loaded. To reload it, use:\n",
      "  %reload_ext autoreload\n"
     ]
    }
   ],
   "source": [
    "%load_ext autoreload\n",
    "%autoreload 2"
   ]
  },
  {
   "cell_type": "code",
   "execution_count": 1,
   "metadata": {},
   "outputs": [],
   "source": [
    "import json\n",
    "import pandas as pd\n",
    "import numpy as np\n",
    "from urllib import parse\n",
    "import requests\n",
    "from youtubeApi import YoutubeApi\n",
    "from utils import Utils\n",
    "\n",
    "email = 'kjmkjk097@gmail.com'\n",
    "yt = YoutubeApi()\n",
    "ut = Utils()"
   ]
  },
  {
   "cell_type": "code",
   "execution_count": 2,
   "metadata": {},
   "outputs": [
    {
     "data": {
      "text/plain": [
       "{'kind': 'youtube#searchListResponse',\n",
       " 'etag': '2kSbpdgNpmR4fF8GuL6yTX6RBZc',\n",
       " 'nextPageToken': 'CAEQAA',\n",
       " 'regionCode': 'KR',\n",
       " 'pageInfo': {'totalResults': 392037, 'resultsPerPage': 1},\n",
       " 'items': [{'kind': 'youtube#searchResult',\n",
       "   'etag': 't_dw1zzKhBIuEkw8Adb1-2QVX3g',\n",
       "   'id': {'kind': 'youtube#video', 'videoId': '49tjroGV8nk'},\n",
       "   'snippet': {'publishedAt': '2022-08-28T12:59:35Z',\n",
       "    'channelId': 'UClRNDVO8093rmRTtLe4GEPw',\n",
       "    'title': '도쿄의 고독한 대식가 - 일본(1)',\n",
       "    'description': \"안녕하세요 '디스이즈네버댓'의 초청으로 일본에 잠시 왔습니다. 당분간 일본 먹방여행으로 찾아뵙겠습니다. 감사합니다.\",\n",
       "    'thumbnails': {'default': {'url': 'https://i.ytimg.com/vi/49tjroGV8nk/default.jpg',\n",
       "      'width': 120,\n",
       "      'height': 90},\n",
       "     'medium': {'url': 'https://i.ytimg.com/vi/49tjroGV8nk/mqdefault.jpg',\n",
       "      'width': 320,\n",
       "      'height': 180},\n",
       "     'high': {'url': 'https://i.ytimg.com/vi/49tjroGV8nk/hqdefault.jpg',\n",
       "      'width': 480,\n",
       "      'height': 360}},\n",
       "    'channelTitle': '곽튜브',\n",
       "    'liveBroadcastContent': 'none',\n",
       "    'publishTime': '2022-08-28T12:59:35Z'}}]}"
      ]
     },
     "execution_count": 2,
     "metadata": {},
     "output_type": "execute_result"
    }
   ],
   "source": [
    "# search query\n",
    "searchQuery = '곽튜브 일본'\n",
    "data = yt.getDictBySearchQuery(searchQuery, 1)\n",
    "data"
   ]
  },
  {
   "cell_type": "code",
   "execution_count": 3,
   "metadata": {},
   "outputs": [
    {
     "data": {
      "text/plain": [
       "{'viewCount': '4000870',\n",
       " 'likeCount': '43772',\n",
       " 'favoriteCount': '0',\n",
       " 'commentCount': '4049'}"
      ]
     },
     "execution_count": 3,
     "metadata": {},
     "output_type": "execute_result"
    }
   ],
   "source": [
    "# 채널의 대만 영상 정보 가져오기\n",
    "channelId = data['items'][0]['snippet']['channelId']\n",
    "videoId = data['items'][0]['id']['videoId']\n",
    "\n",
    "data2 = yt.getDictByVideoId(videoId)\n",
    "data2"
   ]
  },
  {
   "cell_type": "code",
   "execution_count": 4,
   "metadata": {},
   "outputs": [],
   "source": [
    "df = ut.make_df(data)\n",
    "df2 = ut.makeDataFromStatistics(data2)"
   ]
  },
  {
   "cell_type": "code",
   "execution_count": 5,
   "metadata": {},
   "outputs": [
    {
     "data": {
      "text/html": [
       "<div>\n",
       "<style scoped>\n",
       "    .dataframe tbody tr th:only-of-type {\n",
       "        vertical-align: middle;\n",
       "    }\n",
       "\n",
       "    .dataframe tbody tr th {\n",
       "        vertical-align: top;\n",
       "    }\n",
       "\n",
       "    .dataframe thead th {\n",
       "        text-align: right;\n",
       "    }\n",
       "</style>\n",
       "<table border=\"1\" class=\"dataframe\">\n",
       "  <thead>\n",
       "    <tr style=\"text-align: right;\">\n",
       "      <th></th>\n",
       "      <th>publishedAt</th>\n",
       "      <th>channelId</th>\n",
       "      <th>title</th>\n",
       "      <th>description</th>\n",
       "      <th>thumbnails</th>\n",
       "      <th>channelTitle</th>\n",
       "      <th>liveBroadcastContent</th>\n",
       "      <th>publishTime</th>\n",
       "      <th>videoId</th>\n",
       "    </tr>\n",
       "  </thead>\n",
       "  <tbody>\n",
       "    <tr>\n",
       "      <th>0</th>\n",
       "      <td>2022-08-28T12:59:35Z</td>\n",
       "      <td>UClRNDVO8093rmRTtLe4GEPw</td>\n",
       "      <td>도쿄의 고독한 대식가 - 일본(1)</td>\n",
       "      <td>안녕하세요 '디스이즈네버댓'의 초청으로 일본에 잠시 왔습니다. 당분간 일본 먹방여행...</td>\n",
       "      <td>{'default': {'url': 'https://i.ytimg.com/vi/49...</td>\n",
       "      <td>곽튜브</td>\n",
       "      <td>none</td>\n",
       "      <td>2022-08-28T12:59:35Z</td>\n",
       "      <td>49tjroGV8nk</td>\n",
       "    </tr>\n",
       "  </tbody>\n",
       "</table>\n",
       "</div>"
      ],
      "text/plain": [
       "            publishedAt                 channelId                title  \\\n",
       "0  2022-08-28T12:59:35Z  UClRNDVO8093rmRTtLe4GEPw  도쿄의 고독한 대식가 - 일본(1)   \n",
       "\n",
       "                                         description  \\\n",
       "0  안녕하세요 '디스이즈네버댓'의 초청으로 일본에 잠시 왔습니다. 당분간 일본 먹방여행...   \n",
       "\n",
       "                                          thumbnails channelTitle  \\\n",
       "0  {'default': {'url': 'https://i.ytimg.com/vi/49...          곽튜브   \n",
       "\n",
       "  liveBroadcastContent           publishTime      videoId  \n",
       "0                 none  2022-08-28T12:59:35Z  49tjroGV8nk  "
      ]
     },
     "execution_count": 5,
     "metadata": {},
     "output_type": "execute_result"
    }
   ],
   "source": [
    "df"
   ]
  },
  {
   "cell_type": "code",
   "execution_count": 6,
   "metadata": {},
   "outputs": [
    {
     "data": {
      "text/html": [
       "<div>\n",
       "<style scoped>\n",
       "    .dataframe tbody tr th:only-of-type {\n",
       "        vertical-align: middle;\n",
       "    }\n",
       "\n",
       "    .dataframe tbody tr th {\n",
       "        vertical-align: top;\n",
       "    }\n",
       "\n",
       "    .dataframe thead th {\n",
       "        text-align: right;\n",
       "    }\n",
       "</style>\n",
       "<table border=\"1\" class=\"dataframe\">\n",
       "  <thead>\n",
       "    <tr style=\"text-align: right;\">\n",
       "      <th></th>\n",
       "      <th>viewCount</th>\n",
       "      <th>likeCount</th>\n",
       "      <th>favoriteCount</th>\n",
       "      <th>commentCount</th>\n",
       "    </tr>\n",
       "  </thead>\n",
       "  <tbody>\n",
       "    <tr>\n",
       "      <th>0</th>\n",
       "      <td>4000870</td>\n",
       "      <td>43772</td>\n",
       "      <td>0</td>\n",
       "      <td>4049</td>\n",
       "    </tr>\n",
       "  </tbody>\n",
       "</table>\n",
       "</div>"
      ],
      "text/plain": [
       "  viewCount likeCount favoriteCount commentCount\n",
       "0   4000870     43772             0         4049"
      ]
     },
     "execution_count": 6,
     "metadata": {},
     "output_type": "execute_result"
    }
   ],
   "source": [
    "df2"
   ]
  },
  {
   "cell_type": "code",
   "execution_count": 7,
   "metadata": {},
   "outputs": [],
   "source": [
    "final_data = pd.concat([df, df2], axis=1)"
   ]
  },
  {
   "cell_type": "code",
   "execution_count": 8,
   "metadata": {},
   "outputs": [],
   "source": [
    "final_data['country'] = '일본'"
   ]
  },
  {
   "cell_type": "code",
   "execution_count": 9,
   "metadata": {},
   "outputs": [],
   "source": [
    "# column 드롭 및 재 정렬\n",
    "final_data = ut.dropAndReorganizeColumns(final_data)"
   ]
  },
  {
   "cell_type": "code",
   "execution_count": 10,
   "metadata": {},
   "outputs": [
    {
     "data": {
      "text/html": [
       "<div>\n",
       "<style scoped>\n",
       "    .dataframe tbody tr th:only-of-type {\n",
       "        vertical-align: middle;\n",
       "    }\n",
       "\n",
       "    .dataframe tbody tr th {\n",
       "        vertical-align: top;\n",
       "    }\n",
       "\n",
       "    .dataframe thead th {\n",
       "        text-align: right;\n",
       "    }\n",
       "</style>\n",
       "<table border=\"1\" class=\"dataframe\">\n",
       "  <thead>\n",
       "    <tr style=\"text-align: right;\">\n",
       "      <th></th>\n",
       "      <th>videoId</th>\n",
       "      <th>title</th>\n",
       "      <th>description</th>\n",
       "      <th>viewCount</th>\n",
       "      <th>likeCount</th>\n",
       "      <th>favoriteCount</th>\n",
       "      <th>commentCount</th>\n",
       "      <th>publishedAt</th>\n",
       "      <th>channelId</th>\n",
       "      <th>channelTitle</th>\n",
       "      <th>country</th>\n",
       "    </tr>\n",
       "  </thead>\n",
       "  <tbody>\n",
       "    <tr>\n",
       "      <th>0</th>\n",
       "      <td>49tjroGV8nk</td>\n",
       "      <td>도쿄의 고독한 대식가 - 일본(1)</td>\n",
       "      <td>안녕하세요 '디스이즈네버댓'의 초청으로 일본에 잠시 왔습니다. 당분간 일본 먹방여행...</td>\n",
       "      <td>4000870</td>\n",
       "      <td>43772</td>\n",
       "      <td>0</td>\n",
       "      <td>4049</td>\n",
       "      <td>2022-08-28T12:59:35Z</td>\n",
       "      <td>UClRNDVO8093rmRTtLe4GEPw</td>\n",
       "      <td>곽튜브</td>\n",
       "      <td>일본</td>\n",
       "    </tr>\n",
       "  </tbody>\n",
       "</table>\n",
       "</div>"
      ],
      "text/plain": [
       "       videoId                title  \\\n",
       "0  49tjroGV8nk  도쿄의 고독한 대식가 - 일본(1)   \n",
       "\n",
       "                                         description viewCount likeCount  \\\n",
       "0  안녕하세요 '디스이즈네버댓'의 초청으로 일본에 잠시 왔습니다. 당분간 일본 먹방여행...   4000870     43772   \n",
       "\n",
       "  favoriteCount commentCount           publishedAt                 channelId  \\\n",
       "0             0         4049  2022-08-28T12:59:35Z  UClRNDVO8093rmRTtLe4GEPw   \n",
       "\n",
       "  channelTitle country  \n",
       "0          곽튜브      일본  "
      ]
     },
     "execution_count": 10,
     "metadata": {},
     "output_type": "execute_result"
    }
   ],
   "source": [
    "final_data"
   ]
  },
  {
   "cell_type": "code",
   "execution_count": 11,
   "metadata": {},
   "outputs": [],
   "source": [
    "# 최종 데이터 프레임 csv에 저장\n",
    "final_data.to_csv('./data/japan_youtube.csv', encoding='utf-8-sig', index=False)"
   ]
  }
 ],
 "metadata": {
  "kernelspec": {
   "display_name": "Python 3 (ipykernel)",
   "language": "python",
   "name": "python3"
  },
  "language_info": {
   "codemirror_mode": {
    "name": "ipython",
    "version": 3
   },
   "file_extension": ".py",
   "mimetype": "text/x-python",
   "name": "python",
   "nbconvert_exporter": "python",
   "pygments_lexer": "ipython3",
   "version": "3.11.3"
  }
 },
 "nbformat": 4,
 "nbformat_minor": 2
}
