{
 "cells": [
  {
   "cell_type": "code",
   "execution_count": 1,
   "id": "3d519287",
   "metadata": {},
   "outputs": [],
   "source": [
    "import requests\n",
    "import json\n",
    "import numpy as np\n",
    "import pandas as pd\n",
    "import matplotlib.pyplot as plt\n",
    "import seaborn as sns"
   ]
  },
  {
   "cell_type": "code",
   "execution_count": 2,
   "id": "ab738bb2",
   "metadata": {},
   "outputs": [],
   "source": [
    "asia_data = pd.read_csv('./data/visitor_kor/asia_data_kor.csv')"
   ]
  },
  {
   "cell_type": "code",
   "execution_count": 3,
   "id": "e1ff24a1",
   "metadata": {},
   "outputs": [
    {
     "data": {
      "text/plain": [
       "일본_명수       36087499\n",
       "중국_명수       29750589\n",
       "베트남_명수      16061089\n",
       "태국_명수       11465554\n",
       "필리핀_명수      11150761\n",
       "홍콩_명수        8970767\n",
       "대만_명수        5972198\n",
       "마카오_명수       4721522\n",
       "싱가폴_명수       4373176\n",
       "말레이시아_명수     3569529\n",
       "인도네시아_명수     2727022\n",
       "캄보디아_명수      2639210\n",
       "튀르키예_명수      1404237\n",
       "라오스_명수       1104849\n",
       "인도_명수         921554\n",
       "미얀마_명수        519290\n",
       "몽골_명수         516592\n",
       "몰디브_명수        282755\n",
       "이스라엘_명수       277521\n",
       "네팔_명수         176368\n",
       "요르단_명수        112227\n",
       "스리랑카_명수       103149\n",
       "부탄_명수          11725\n",
       "예멘_명수            356\n",
       "사이프러스_명수         282\n",
       "dtype: int64"
      ]
     },
     "execution_count": 3,
     "metadata": {},
     "output_type": "execute_result"
    }
   ],
   "source": [
    "# 10년치 아시아 국가들의 누적수 모아서 내림차순으로 정리\n",
    "def get_cum_data(data) :  \n",
    "    cum = data.iloc[-11:-1, 4::2]\n",
    "    cum = cum.fillna(0).astype('int')\n",
    "    total = cum.sum(axis=0)\n",
    "    \n",
    "    return total\n",
    "\n",
    "total_asia = get_cum_data(asia_data)\n",
    "\n",
    "total_asia = total_asia.sort_values(ascending=False)\n",
    "total_asia"
   ]
  },
  {
   "cell_type": "code",
   "execution_count": 4,
   "id": "59f9577e",
   "metadata": {},
   "outputs": [],
   "source": [
    "# 상위 25% 국가\n",
    "quarterVal = round(len(total_asia) / 4)\n",
    "top25 = total_asia[:quarterVal]\n",
    "\n",
    "top25.to_csv('./data/asia_top25.csv', encoding='utf-8-sig')\n",
    "total_asia.to_csv('./data/asia_cum.csv', encoding='utf-8-sig')"
   ]
  },
  {
   "cell_type": "code",
   "execution_count": null,
   "id": "1955d29c",
   "metadata": {},
   "outputs": [],
   "source": []
  }
 ],
 "metadata": {
  "kernelspec": {
   "display_name": "Python 3 (ipykernel)",
   "language": "python",
   "name": "python3"
  },
  "language_info": {
   "codemirror_mode": {
    "name": "ipython",
    "version": 3
   },
   "file_extension": ".py",
   "mimetype": "text/x-python",
   "name": "python",
   "nbconvert_exporter": "python",
   "pygments_lexer": "ipython3",
   "version": "3.11.3"
  }
 },
 "nbformat": 4,
 "nbformat_minor": 5
}
